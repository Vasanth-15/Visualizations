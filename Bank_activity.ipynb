{
 "cells": [
  {
   "cell_type": "markdown",
   "metadata": {},
   "source": [
    "Below are the required imports"
   ]
  },
  {
   "cell_type": "code",
   "execution_count": 96,
   "metadata": {},
   "outputs": [],
   "source": [
    "import plotly.graph_objects as go\n",
    "from itertools import product"
   ]
  },
  {
   "cell_type": "markdown",
   "metadata": {},
   "source": [
    "Adding required variables"
   ]
  },
  {
   "cell_type": "code",
   "execution_count": 97,
   "metadata": {},
   "outputs": [],
   "source": [
    "numpcs = 2\n",
    "numbanks = 16\n",
    "fig = go.Figure()"
   ]
  },
  {
   "cell_type": "code",
   "execution_count": 98,
   "metadata": {},
   "outputs": [],
   "source": [
    "y = product(range(numpcs), range(numbanks))\n",
    "y_axis = [\"PC\" + str(x[0]) + \"_Bank\" + str(x[1]) for x in y]"
   ]
  },
  {
   "cell_type": "code",
   "execution_count": 99,
   "metadata": {},
   "outputs": [],
   "source": [
    "x_axis = []\n",
    "for pc in range(numpcs):\n",
    "    _ = [x_axis.append(list(range(0,50,x+1))) for x in range(numbanks)]"
   ]
  },
  {
   "cell_type": "markdown",
   "metadata": {},
   "source": [
    "Add x1 and y1 "
   ]
  },
  {
   "cell_type": "code",
   "execution_count": 100,
   "metadata": {},
   "outputs": [],
   "source": [
    "x1 = []\n",
    "y1 = []\n",
    "x2 = []\n",
    "y2 = []\n",
    "i = 0\n",
    "for x in x_axis:\n",
    "    for _x in x:\n",
    "        if i < 16:\n",
    "            x1.append(_x)\n",
    "            y1.append(y_axis[i])\n",
    "        else:\n",
    "            x2.append(_x)\n",
    "            y2.append(y_axis[i])            \n",
    "    i+=1"
   ]
  },
  {
   "cell_type": "markdown",
   "metadata": {},
   "source": [
    "Update the data structures"
   ]
  },
  {
   "cell_type": "code",
   "execution_count": 101,
   "metadata": {},
   "outputs": [
    {
     "data": {
      "application/vnd.plotly.v1+json": {
       "config": {
        "plotlyServerURL": "https://plot.ly"
       },
       "data": [
        {
         "marker": {
          "color": "Crimson"
         },
         "mode": "markers",
         "type": "scatter",
         "x": [
          0,
          1,
          2,
          3,
          4,
          5,
          6,
          7,
          8,
          9,
          10,
          11,
          12,
          13,
          14,
          15,
          16,
          17,
          18,
          19,
          20,
          21,
          22,
          23,
          24,
          25,
          26,
          27,
          28,
          29,
          30,
          31,
          32,
          33,
          34,
          35,
          36,
          37,
          38,
          39,
          40,
          41,
          42,
          43,
          44,
          45,
          46,
          47,
          48,
          49,
          0,
          2,
          4,
          6,
          8,
          10,
          12,
          14,
          16,
          18,
          20,
          22,
          24,
          26,
          28,
          30,
          32,
          34,
          36,
          38,
          40,
          42,
          44,
          46,
          48,
          0,
          3,
          6,
          9,
          12,
          15,
          18,
          21,
          24,
          27,
          30,
          33,
          36,
          39,
          42,
          45,
          48,
          0,
          4,
          8,
          12,
          16,
          20,
          24,
          28,
          32,
          36,
          40,
          44,
          48,
          0,
          5,
          10,
          15,
          20,
          25,
          30,
          35,
          40,
          45,
          0,
          6,
          12,
          18,
          24,
          30,
          36,
          42,
          48,
          0,
          7,
          14,
          21,
          28,
          35,
          42,
          49,
          0,
          8,
          16,
          24,
          32,
          40,
          48,
          0,
          9,
          18,
          27,
          36,
          45,
          0,
          10,
          20,
          30,
          40,
          0,
          11,
          22,
          33,
          44,
          0,
          12,
          24,
          36,
          48,
          0,
          13,
          26,
          39,
          0,
          14,
          28,
          42,
          0,
          15,
          30,
          45,
          0,
          16,
          32,
          48
         ],
         "y": [
          "PC0_Bank0",
          "PC0_Bank0",
          "PC0_Bank0",
          "PC0_Bank0",
          "PC0_Bank0",
          "PC0_Bank0",
          "PC0_Bank0",
          "PC0_Bank0",
          "PC0_Bank0",
          "PC0_Bank0",
          "PC0_Bank0",
          "PC0_Bank0",
          "PC0_Bank0",
          "PC0_Bank0",
          "PC0_Bank0",
          "PC0_Bank0",
          "PC0_Bank0",
          "PC0_Bank0",
          "PC0_Bank0",
          "PC0_Bank0",
          "PC0_Bank0",
          "PC0_Bank0",
          "PC0_Bank0",
          "PC0_Bank0",
          "PC0_Bank0",
          "PC0_Bank0",
          "PC0_Bank0",
          "PC0_Bank0",
          "PC0_Bank0",
          "PC0_Bank0",
          "PC0_Bank0",
          "PC0_Bank0",
          "PC0_Bank0",
          "PC0_Bank0",
          "PC0_Bank0",
          "PC0_Bank0",
          "PC0_Bank0",
          "PC0_Bank0",
          "PC0_Bank0",
          "PC0_Bank0",
          "PC0_Bank0",
          "PC0_Bank0",
          "PC0_Bank0",
          "PC0_Bank0",
          "PC0_Bank0",
          "PC0_Bank0",
          "PC0_Bank0",
          "PC0_Bank0",
          "PC0_Bank0",
          "PC0_Bank0",
          "PC0_Bank1",
          "PC0_Bank1",
          "PC0_Bank1",
          "PC0_Bank1",
          "PC0_Bank1",
          "PC0_Bank1",
          "PC0_Bank1",
          "PC0_Bank1",
          "PC0_Bank1",
          "PC0_Bank1",
          "PC0_Bank1",
          "PC0_Bank1",
          "PC0_Bank1",
          "PC0_Bank1",
          "PC0_Bank1",
          "PC0_Bank1",
          "PC0_Bank1",
          "PC0_Bank1",
          "PC0_Bank1",
          "PC0_Bank1",
          "PC0_Bank1",
          "PC0_Bank1",
          "PC0_Bank1",
          "PC0_Bank1",
          "PC0_Bank1",
          "PC0_Bank2",
          "PC0_Bank2",
          "PC0_Bank2",
          "PC0_Bank2",
          "PC0_Bank2",
          "PC0_Bank2",
          "PC0_Bank2",
          "PC0_Bank2",
          "PC0_Bank2",
          "PC0_Bank2",
          "PC0_Bank2",
          "PC0_Bank2",
          "PC0_Bank2",
          "PC0_Bank2",
          "PC0_Bank2",
          "PC0_Bank2",
          "PC0_Bank2",
          "PC0_Bank3",
          "PC0_Bank3",
          "PC0_Bank3",
          "PC0_Bank3",
          "PC0_Bank3",
          "PC0_Bank3",
          "PC0_Bank3",
          "PC0_Bank3",
          "PC0_Bank3",
          "PC0_Bank3",
          "PC0_Bank3",
          "PC0_Bank3",
          "PC0_Bank3",
          "PC0_Bank4",
          "PC0_Bank4",
          "PC0_Bank4",
          "PC0_Bank4",
          "PC0_Bank4",
          "PC0_Bank4",
          "PC0_Bank4",
          "PC0_Bank4",
          "PC0_Bank4",
          "PC0_Bank4",
          "PC0_Bank5",
          "PC0_Bank5",
          "PC0_Bank5",
          "PC0_Bank5",
          "PC0_Bank5",
          "PC0_Bank5",
          "PC0_Bank5",
          "PC0_Bank5",
          "PC0_Bank5",
          "PC0_Bank6",
          "PC0_Bank6",
          "PC0_Bank6",
          "PC0_Bank6",
          "PC0_Bank6",
          "PC0_Bank6",
          "PC0_Bank6",
          "PC0_Bank6",
          "PC0_Bank7",
          "PC0_Bank7",
          "PC0_Bank7",
          "PC0_Bank7",
          "PC0_Bank7",
          "PC0_Bank7",
          "PC0_Bank7",
          "PC0_Bank8",
          "PC0_Bank8",
          "PC0_Bank8",
          "PC0_Bank8",
          "PC0_Bank8",
          "PC0_Bank8",
          "PC0_Bank9",
          "PC0_Bank9",
          "PC0_Bank9",
          "PC0_Bank9",
          "PC0_Bank9",
          "PC0_Bank10",
          "PC0_Bank10",
          "PC0_Bank10",
          "PC0_Bank10",
          "PC0_Bank10",
          "PC0_Bank11",
          "PC0_Bank11",
          "PC0_Bank11",
          "PC0_Bank11",
          "PC0_Bank11",
          "PC0_Bank12",
          "PC0_Bank12",
          "PC0_Bank12",
          "PC0_Bank12",
          "PC0_Bank13",
          "PC0_Bank13",
          "PC0_Bank13",
          "PC0_Bank13",
          "PC0_Bank14",
          "PC0_Bank14",
          "PC0_Bank14",
          "PC0_Bank14",
          "PC0_Bank15",
          "PC0_Bank15",
          "PC0_Bank15",
          "PC0_Bank15"
         ]
        },
        {
         "marker": {
          "color": "Crimson"
         },
         "mode": "markers",
         "type": "scatter",
         "x": [
          0,
          1,
          2,
          3,
          4,
          5,
          6,
          7,
          8,
          9,
          10,
          11,
          12,
          13,
          14,
          15,
          16,
          17,
          18,
          19,
          20,
          21,
          22,
          23,
          24,
          25,
          26,
          27,
          28,
          29,
          30,
          31,
          32,
          33,
          34,
          35,
          36,
          37,
          38,
          39,
          40,
          41,
          42,
          43,
          44,
          45,
          46,
          47,
          48,
          49,
          0,
          2,
          4,
          6,
          8,
          10,
          12,
          14,
          16,
          18,
          20,
          22,
          24,
          26,
          28,
          30,
          32,
          34,
          36,
          38,
          40,
          42,
          44,
          46,
          48,
          0,
          3,
          6,
          9,
          12,
          15,
          18,
          21,
          24,
          27,
          30,
          33,
          36,
          39,
          42,
          45,
          48,
          0,
          4,
          8,
          12,
          16,
          20,
          24,
          28,
          32,
          36,
          40,
          44,
          48,
          0,
          5,
          10,
          15,
          20,
          25,
          30,
          35,
          40,
          45,
          0,
          6,
          12,
          18,
          24,
          30,
          36,
          42,
          48,
          0,
          7,
          14,
          21,
          28,
          35,
          42,
          49,
          0,
          8,
          16,
          24,
          32,
          40,
          48,
          0,
          9,
          18,
          27,
          36,
          45,
          0,
          10,
          20,
          30,
          40,
          0,
          11,
          22,
          33,
          44,
          0,
          12,
          24,
          36,
          48,
          0,
          13,
          26,
          39,
          0,
          14,
          28,
          42,
          0,
          15,
          30,
          45,
          0,
          16,
          32,
          48
         ],
         "y": [
          "PC1_Bank0",
          "PC1_Bank0",
          "PC1_Bank0",
          "PC1_Bank0",
          "PC1_Bank0",
          "PC1_Bank0",
          "PC1_Bank0",
          "PC1_Bank0",
          "PC1_Bank0",
          "PC1_Bank0",
          "PC1_Bank0",
          "PC1_Bank0",
          "PC1_Bank0",
          "PC1_Bank0",
          "PC1_Bank0",
          "PC1_Bank0",
          "PC1_Bank0",
          "PC1_Bank0",
          "PC1_Bank0",
          "PC1_Bank0",
          "PC1_Bank0",
          "PC1_Bank0",
          "PC1_Bank0",
          "PC1_Bank0",
          "PC1_Bank0",
          "PC1_Bank0",
          "PC1_Bank0",
          "PC1_Bank0",
          "PC1_Bank0",
          "PC1_Bank0",
          "PC1_Bank0",
          "PC1_Bank0",
          "PC1_Bank0",
          "PC1_Bank0",
          "PC1_Bank0",
          "PC1_Bank0",
          "PC1_Bank0",
          "PC1_Bank0",
          "PC1_Bank0",
          "PC1_Bank0",
          "PC1_Bank0",
          "PC1_Bank0",
          "PC1_Bank0",
          "PC1_Bank0",
          "PC1_Bank0",
          "PC1_Bank0",
          "PC1_Bank0",
          "PC1_Bank0",
          "PC1_Bank0",
          "PC1_Bank0",
          "PC1_Bank1",
          "PC1_Bank1",
          "PC1_Bank1",
          "PC1_Bank1",
          "PC1_Bank1",
          "PC1_Bank1",
          "PC1_Bank1",
          "PC1_Bank1",
          "PC1_Bank1",
          "PC1_Bank1",
          "PC1_Bank1",
          "PC1_Bank1",
          "PC1_Bank1",
          "PC1_Bank1",
          "PC1_Bank1",
          "PC1_Bank1",
          "PC1_Bank1",
          "PC1_Bank1",
          "PC1_Bank1",
          "PC1_Bank1",
          "PC1_Bank1",
          "PC1_Bank1",
          "PC1_Bank1",
          "PC1_Bank1",
          "PC1_Bank1",
          "PC1_Bank2",
          "PC1_Bank2",
          "PC1_Bank2",
          "PC1_Bank2",
          "PC1_Bank2",
          "PC1_Bank2",
          "PC1_Bank2",
          "PC1_Bank2",
          "PC1_Bank2",
          "PC1_Bank2",
          "PC1_Bank2",
          "PC1_Bank2",
          "PC1_Bank2",
          "PC1_Bank2",
          "PC1_Bank2",
          "PC1_Bank2",
          "PC1_Bank2",
          "PC1_Bank3",
          "PC1_Bank3",
          "PC1_Bank3",
          "PC1_Bank3",
          "PC1_Bank3",
          "PC1_Bank3",
          "PC1_Bank3",
          "PC1_Bank3",
          "PC1_Bank3",
          "PC1_Bank3",
          "PC1_Bank3",
          "PC1_Bank3",
          "PC1_Bank3",
          "PC1_Bank4",
          "PC1_Bank4",
          "PC1_Bank4",
          "PC1_Bank4",
          "PC1_Bank4",
          "PC1_Bank4",
          "PC1_Bank4",
          "PC1_Bank4",
          "PC1_Bank4",
          "PC1_Bank4",
          "PC1_Bank5",
          "PC1_Bank5",
          "PC1_Bank5",
          "PC1_Bank5",
          "PC1_Bank5",
          "PC1_Bank5",
          "PC1_Bank5",
          "PC1_Bank5",
          "PC1_Bank5",
          "PC1_Bank6",
          "PC1_Bank6",
          "PC1_Bank6",
          "PC1_Bank6",
          "PC1_Bank6",
          "PC1_Bank6",
          "PC1_Bank6",
          "PC1_Bank6",
          "PC1_Bank7",
          "PC1_Bank7",
          "PC1_Bank7",
          "PC1_Bank7",
          "PC1_Bank7",
          "PC1_Bank7",
          "PC1_Bank7",
          "PC1_Bank8",
          "PC1_Bank8",
          "PC1_Bank8",
          "PC1_Bank8",
          "PC1_Bank8",
          "PC1_Bank8",
          "PC1_Bank9",
          "PC1_Bank9",
          "PC1_Bank9",
          "PC1_Bank9",
          "PC1_Bank9",
          "PC1_Bank10",
          "PC1_Bank10",
          "PC1_Bank10",
          "PC1_Bank10",
          "PC1_Bank10",
          "PC1_Bank11",
          "PC1_Bank11",
          "PC1_Bank11",
          "PC1_Bank11",
          "PC1_Bank11",
          "PC1_Bank12",
          "PC1_Bank12",
          "PC1_Bank12",
          "PC1_Bank12",
          "PC1_Bank13",
          "PC1_Bank13",
          "PC1_Bank13",
          "PC1_Bank13",
          "PC1_Bank14",
          "PC1_Bank14",
          "PC1_Bank14",
          "PC1_Bank14",
          "PC1_Bank15",
          "PC1_Bank15",
          "PC1_Bank15",
          "PC1_Bank15"
         ]
        }
       ],
       "layout": {
        "template": {
         "data": {
          "bar": [
           {
            "error_x": {
             "color": "#2a3f5f"
            },
            "error_y": {
             "color": "#2a3f5f"
            },
            "marker": {
             "line": {
              "color": "#E5ECF6",
              "width": 0.5
             }
            },
            "type": "bar"
           }
          ],
          "barpolar": [
           {
            "marker": {
             "line": {
              "color": "#E5ECF6",
              "width": 0.5
             }
            },
            "type": "barpolar"
           }
          ],
          "carpet": [
           {
            "aaxis": {
             "endlinecolor": "#2a3f5f",
             "gridcolor": "white",
             "linecolor": "white",
             "minorgridcolor": "white",
             "startlinecolor": "#2a3f5f"
            },
            "baxis": {
             "endlinecolor": "#2a3f5f",
             "gridcolor": "white",
             "linecolor": "white",
             "minorgridcolor": "white",
             "startlinecolor": "#2a3f5f"
            },
            "type": "carpet"
           }
          ],
          "choropleth": [
           {
            "colorbar": {
             "outlinewidth": 0,
             "ticks": ""
            },
            "type": "choropleth"
           }
          ],
          "contour": [
           {
            "colorbar": {
             "outlinewidth": 0,
             "ticks": ""
            },
            "colorscale": [
             [
              0,
              "#0d0887"
             ],
             [
              0.1111111111111111,
              "#46039f"
             ],
             [
              0.2222222222222222,
              "#7201a8"
             ],
             [
              0.3333333333333333,
              "#9c179e"
             ],
             [
              0.4444444444444444,
              "#bd3786"
             ],
             [
              0.5555555555555556,
              "#d8576b"
             ],
             [
              0.6666666666666666,
              "#ed7953"
             ],
             [
              0.7777777777777778,
              "#fb9f3a"
             ],
             [
              0.8888888888888888,
              "#fdca26"
             ],
             [
              1,
              "#f0f921"
             ]
            ],
            "type": "contour"
           }
          ],
          "contourcarpet": [
           {
            "colorbar": {
             "outlinewidth": 0,
             "ticks": ""
            },
            "type": "contourcarpet"
           }
          ],
          "heatmap": [
           {
            "colorbar": {
             "outlinewidth": 0,
             "ticks": ""
            },
            "colorscale": [
             [
              0,
              "#0d0887"
             ],
             [
              0.1111111111111111,
              "#46039f"
             ],
             [
              0.2222222222222222,
              "#7201a8"
             ],
             [
              0.3333333333333333,
              "#9c179e"
             ],
             [
              0.4444444444444444,
              "#bd3786"
             ],
             [
              0.5555555555555556,
              "#d8576b"
             ],
             [
              0.6666666666666666,
              "#ed7953"
             ],
             [
              0.7777777777777778,
              "#fb9f3a"
             ],
             [
              0.8888888888888888,
              "#fdca26"
             ],
             [
              1,
              "#f0f921"
             ]
            ],
            "type": "heatmap"
           }
          ],
          "heatmapgl": [
           {
            "colorbar": {
             "outlinewidth": 0,
             "ticks": ""
            },
            "colorscale": [
             [
              0,
              "#0d0887"
             ],
             [
              0.1111111111111111,
              "#46039f"
             ],
             [
              0.2222222222222222,
              "#7201a8"
             ],
             [
              0.3333333333333333,
              "#9c179e"
             ],
             [
              0.4444444444444444,
              "#bd3786"
             ],
             [
              0.5555555555555556,
              "#d8576b"
             ],
             [
              0.6666666666666666,
              "#ed7953"
             ],
             [
              0.7777777777777778,
              "#fb9f3a"
             ],
             [
              0.8888888888888888,
              "#fdca26"
             ],
             [
              1,
              "#f0f921"
             ]
            ],
            "type": "heatmapgl"
           }
          ],
          "histogram": [
           {
            "marker": {
             "colorbar": {
              "outlinewidth": 0,
              "ticks": ""
             }
            },
            "type": "histogram"
           }
          ],
          "histogram2d": [
           {
            "colorbar": {
             "outlinewidth": 0,
             "ticks": ""
            },
            "colorscale": [
             [
              0,
              "#0d0887"
             ],
             [
              0.1111111111111111,
              "#46039f"
             ],
             [
              0.2222222222222222,
              "#7201a8"
             ],
             [
              0.3333333333333333,
              "#9c179e"
             ],
             [
              0.4444444444444444,
              "#bd3786"
             ],
             [
              0.5555555555555556,
              "#d8576b"
             ],
             [
              0.6666666666666666,
              "#ed7953"
             ],
             [
              0.7777777777777778,
              "#fb9f3a"
             ],
             [
              0.8888888888888888,
              "#fdca26"
             ],
             [
              1,
              "#f0f921"
             ]
            ],
            "type": "histogram2d"
           }
          ],
          "histogram2dcontour": [
           {
            "colorbar": {
             "outlinewidth": 0,
             "ticks": ""
            },
            "colorscale": [
             [
              0,
              "#0d0887"
             ],
             [
              0.1111111111111111,
              "#46039f"
             ],
             [
              0.2222222222222222,
              "#7201a8"
             ],
             [
              0.3333333333333333,
              "#9c179e"
             ],
             [
              0.4444444444444444,
              "#bd3786"
             ],
             [
              0.5555555555555556,
              "#d8576b"
             ],
             [
              0.6666666666666666,
              "#ed7953"
             ],
             [
              0.7777777777777778,
              "#fb9f3a"
             ],
             [
              0.8888888888888888,
              "#fdca26"
             ],
             [
              1,
              "#f0f921"
             ]
            ],
            "type": "histogram2dcontour"
           }
          ],
          "mesh3d": [
           {
            "colorbar": {
             "outlinewidth": 0,
             "ticks": ""
            },
            "type": "mesh3d"
           }
          ],
          "parcoords": [
           {
            "line": {
             "colorbar": {
              "outlinewidth": 0,
              "ticks": ""
             }
            },
            "type": "parcoords"
           }
          ],
          "pie": [
           {
            "automargin": true,
            "type": "pie"
           }
          ],
          "scatter": [
           {
            "marker": {
             "colorbar": {
              "outlinewidth": 0,
              "ticks": ""
             }
            },
            "type": "scatter"
           }
          ],
          "scatter3d": [
           {
            "line": {
             "colorbar": {
              "outlinewidth": 0,
              "ticks": ""
             }
            },
            "marker": {
             "colorbar": {
              "outlinewidth": 0,
              "ticks": ""
             }
            },
            "type": "scatter3d"
           }
          ],
          "scattercarpet": [
           {
            "marker": {
             "colorbar": {
              "outlinewidth": 0,
              "ticks": ""
             }
            },
            "type": "scattercarpet"
           }
          ],
          "scattergeo": [
           {
            "marker": {
             "colorbar": {
              "outlinewidth": 0,
              "ticks": ""
             }
            },
            "type": "scattergeo"
           }
          ],
          "scattergl": [
           {
            "marker": {
             "colorbar": {
              "outlinewidth": 0,
              "ticks": ""
             }
            },
            "type": "scattergl"
           }
          ],
          "scattermapbox": [
           {
            "marker": {
             "colorbar": {
              "outlinewidth": 0,
              "ticks": ""
             }
            },
            "type": "scattermapbox"
           }
          ],
          "scatterpolar": [
           {
            "marker": {
             "colorbar": {
              "outlinewidth": 0,
              "ticks": ""
             }
            },
            "type": "scatterpolar"
           }
          ],
          "scatterpolargl": [
           {
            "marker": {
             "colorbar": {
              "outlinewidth": 0,
              "ticks": ""
             }
            },
            "type": "scatterpolargl"
           }
          ],
          "scatterternary": [
           {
            "marker": {
             "colorbar": {
              "outlinewidth": 0,
              "ticks": ""
             }
            },
            "type": "scatterternary"
           }
          ],
          "surface": [
           {
            "colorbar": {
             "outlinewidth": 0,
             "ticks": ""
            },
            "colorscale": [
             [
              0,
              "#0d0887"
             ],
             [
              0.1111111111111111,
              "#46039f"
             ],
             [
              0.2222222222222222,
              "#7201a8"
             ],
             [
              0.3333333333333333,
              "#9c179e"
             ],
             [
              0.4444444444444444,
              "#bd3786"
             ],
             [
              0.5555555555555556,
              "#d8576b"
             ],
             [
              0.6666666666666666,
              "#ed7953"
             ],
             [
              0.7777777777777778,
              "#fb9f3a"
             ],
             [
              0.8888888888888888,
              "#fdca26"
             ],
             [
              1,
              "#f0f921"
             ]
            ],
            "type": "surface"
           }
          ],
          "table": [
           {
            "cells": {
             "fill": {
              "color": "#EBF0F8"
             },
             "line": {
              "color": "white"
             }
            },
            "header": {
             "fill": {
              "color": "#C8D4E3"
             },
             "line": {
              "color": "white"
             }
            },
            "type": "table"
           }
          ]
         },
         "layout": {
          "annotationdefaults": {
           "arrowcolor": "#2a3f5f",
           "arrowhead": 0,
           "arrowwidth": 1
          },
          "coloraxis": {
           "colorbar": {
            "outlinewidth": 0,
            "ticks": ""
           }
          },
          "colorscale": {
           "diverging": [
            [
             0,
             "#8e0152"
            ],
            [
             0.1,
             "#c51b7d"
            ],
            [
             0.2,
             "#de77ae"
            ],
            [
             0.3,
             "#f1b6da"
            ],
            [
             0.4,
             "#fde0ef"
            ],
            [
             0.5,
             "#f7f7f7"
            ],
            [
             0.6,
             "#e6f5d0"
            ],
            [
             0.7,
             "#b8e186"
            ],
            [
             0.8,
             "#7fbc41"
            ],
            [
             0.9,
             "#4d9221"
            ],
            [
             1,
             "#276419"
            ]
           ],
           "sequential": [
            [
             0,
             "#0d0887"
            ],
            [
             0.1111111111111111,
             "#46039f"
            ],
            [
             0.2222222222222222,
             "#7201a8"
            ],
            [
             0.3333333333333333,
             "#9c179e"
            ],
            [
             0.4444444444444444,
             "#bd3786"
            ],
            [
             0.5555555555555556,
             "#d8576b"
            ],
            [
             0.6666666666666666,
             "#ed7953"
            ],
            [
             0.7777777777777778,
             "#fb9f3a"
            ],
            [
             0.8888888888888888,
             "#fdca26"
            ],
            [
             1,
             "#f0f921"
            ]
           ],
           "sequentialminus": [
            [
             0,
             "#0d0887"
            ],
            [
             0.1111111111111111,
             "#46039f"
            ],
            [
             0.2222222222222222,
             "#7201a8"
            ],
            [
             0.3333333333333333,
             "#9c179e"
            ],
            [
             0.4444444444444444,
             "#bd3786"
            ],
            [
             0.5555555555555556,
             "#d8576b"
            ],
            [
             0.6666666666666666,
             "#ed7953"
            ],
            [
             0.7777777777777778,
             "#fb9f3a"
            ],
            [
             0.8888888888888888,
             "#fdca26"
            ],
            [
             1,
             "#f0f921"
            ]
           ]
          },
          "colorway": [
           "#636efa",
           "#EF553B",
           "#00cc96",
           "#ab63fa",
           "#FFA15A",
           "#19d3f3",
           "#FF6692",
           "#B6E880",
           "#FF97FF",
           "#FECB52"
          ],
          "font": {
           "color": "#2a3f5f"
          },
          "geo": {
           "bgcolor": "white",
           "lakecolor": "white",
           "landcolor": "#E5ECF6",
           "showlakes": true,
           "showland": true,
           "subunitcolor": "white"
          },
          "hoverlabel": {
           "align": "left"
          },
          "hovermode": "closest",
          "mapbox": {
           "style": "light"
          },
          "paper_bgcolor": "white",
          "plot_bgcolor": "#E5ECF6",
          "polar": {
           "angularaxis": {
            "gridcolor": "white",
            "linecolor": "white",
            "ticks": ""
           },
           "bgcolor": "#E5ECF6",
           "radialaxis": {
            "gridcolor": "white",
            "linecolor": "white",
            "ticks": ""
           }
          },
          "scene": {
           "xaxis": {
            "backgroundcolor": "#E5ECF6",
            "gridcolor": "white",
            "gridwidth": 2,
            "linecolor": "white",
            "showbackground": true,
            "ticks": "",
            "zerolinecolor": "white"
           },
           "yaxis": {
            "backgroundcolor": "#E5ECF6",
            "gridcolor": "white",
            "gridwidth": 2,
            "linecolor": "white",
            "showbackground": true,
            "ticks": "",
            "zerolinecolor": "white"
           },
           "zaxis": {
            "backgroundcolor": "#E5ECF6",
            "gridcolor": "white",
            "gridwidth": 2,
            "linecolor": "white",
            "showbackground": true,
            "ticks": "",
            "zerolinecolor": "white"
           }
          },
          "shapedefaults": {
           "line": {
            "color": "#2a3f5f"
           }
          },
          "ternary": {
           "aaxis": {
            "gridcolor": "white",
            "linecolor": "white",
            "ticks": ""
           },
           "baxis": {
            "gridcolor": "white",
            "linecolor": "white",
            "ticks": ""
           },
           "bgcolor": "#E5ECF6",
           "caxis": {
            "gridcolor": "white",
            "linecolor": "white",
            "ticks": ""
           }
          },
          "title": {
           "x": 0.05
          },
          "xaxis": {
           "automargin": true,
           "gridcolor": "white",
           "linecolor": "white",
           "ticks": "",
           "title": {
            "standoff": 15
           },
           "zerolinecolor": "white",
           "zerolinewidth": 2
          },
          "yaxis": {
           "automargin": true,
           "gridcolor": "white",
           "linecolor": "white",
           "ticks": "",
           "title": {
            "standoff": 15
           },
           "zerolinecolor": "white",
           "zerolinewidth": 2
          }
         }
        }
       }
      },
      "text/html": [
       "<div>\n",
       "        \n",
       "        \n",
       "            <div id=\"d0a031ee-c357-4bf8-be30-8e5ee24a86c4\" class=\"plotly-graph-div\" style=\"height:525px; width:100%;\"></div>\n",
       "            <script type=\"text/javascript\">\n",
       "                require([\"plotly\"], function(Plotly) {\n",
       "                    window.PLOTLYENV=window.PLOTLYENV || {};\n",
       "                    \n",
       "                if (document.getElementById(\"d0a031ee-c357-4bf8-be30-8e5ee24a86c4\")) {\n",
       "                    Plotly.newPlot(\n",
       "                        'd0a031ee-c357-4bf8-be30-8e5ee24a86c4',\n",
       "                        [{\"marker\": {\"color\": \"Crimson\"}, \"mode\": \"markers\", \"type\": \"scatter\", \"x\": [0, 1, 2, 3, 4, 5, 6, 7, 8, 9, 10, 11, 12, 13, 14, 15, 16, 17, 18, 19, 20, 21, 22, 23, 24, 25, 26, 27, 28, 29, 30, 31, 32, 33, 34, 35, 36, 37, 38, 39, 40, 41, 42, 43, 44, 45, 46, 47, 48, 49, 0, 2, 4, 6, 8, 10, 12, 14, 16, 18, 20, 22, 24, 26, 28, 30, 32, 34, 36, 38, 40, 42, 44, 46, 48, 0, 3, 6, 9, 12, 15, 18, 21, 24, 27, 30, 33, 36, 39, 42, 45, 48, 0, 4, 8, 12, 16, 20, 24, 28, 32, 36, 40, 44, 48, 0, 5, 10, 15, 20, 25, 30, 35, 40, 45, 0, 6, 12, 18, 24, 30, 36, 42, 48, 0, 7, 14, 21, 28, 35, 42, 49, 0, 8, 16, 24, 32, 40, 48, 0, 9, 18, 27, 36, 45, 0, 10, 20, 30, 40, 0, 11, 22, 33, 44, 0, 12, 24, 36, 48, 0, 13, 26, 39, 0, 14, 28, 42, 0, 15, 30, 45, 0, 16, 32, 48], \"y\": [\"PC0_Bank0\", \"PC0_Bank0\", \"PC0_Bank0\", \"PC0_Bank0\", \"PC0_Bank0\", \"PC0_Bank0\", \"PC0_Bank0\", \"PC0_Bank0\", \"PC0_Bank0\", \"PC0_Bank0\", \"PC0_Bank0\", \"PC0_Bank0\", \"PC0_Bank0\", \"PC0_Bank0\", \"PC0_Bank0\", \"PC0_Bank0\", \"PC0_Bank0\", \"PC0_Bank0\", \"PC0_Bank0\", \"PC0_Bank0\", \"PC0_Bank0\", \"PC0_Bank0\", \"PC0_Bank0\", \"PC0_Bank0\", \"PC0_Bank0\", \"PC0_Bank0\", \"PC0_Bank0\", \"PC0_Bank0\", \"PC0_Bank0\", \"PC0_Bank0\", \"PC0_Bank0\", \"PC0_Bank0\", \"PC0_Bank0\", \"PC0_Bank0\", \"PC0_Bank0\", \"PC0_Bank0\", \"PC0_Bank0\", \"PC0_Bank0\", \"PC0_Bank0\", \"PC0_Bank0\", \"PC0_Bank0\", \"PC0_Bank0\", \"PC0_Bank0\", \"PC0_Bank0\", \"PC0_Bank0\", \"PC0_Bank0\", \"PC0_Bank0\", \"PC0_Bank0\", \"PC0_Bank0\", \"PC0_Bank0\", \"PC0_Bank1\", \"PC0_Bank1\", \"PC0_Bank1\", \"PC0_Bank1\", \"PC0_Bank1\", \"PC0_Bank1\", \"PC0_Bank1\", \"PC0_Bank1\", \"PC0_Bank1\", \"PC0_Bank1\", \"PC0_Bank1\", \"PC0_Bank1\", \"PC0_Bank1\", \"PC0_Bank1\", \"PC0_Bank1\", \"PC0_Bank1\", \"PC0_Bank1\", \"PC0_Bank1\", \"PC0_Bank1\", \"PC0_Bank1\", \"PC0_Bank1\", \"PC0_Bank1\", \"PC0_Bank1\", \"PC0_Bank1\", \"PC0_Bank1\", \"PC0_Bank2\", \"PC0_Bank2\", \"PC0_Bank2\", \"PC0_Bank2\", \"PC0_Bank2\", \"PC0_Bank2\", \"PC0_Bank2\", \"PC0_Bank2\", \"PC0_Bank2\", \"PC0_Bank2\", \"PC0_Bank2\", \"PC0_Bank2\", \"PC0_Bank2\", \"PC0_Bank2\", \"PC0_Bank2\", \"PC0_Bank2\", \"PC0_Bank2\", \"PC0_Bank3\", \"PC0_Bank3\", \"PC0_Bank3\", \"PC0_Bank3\", \"PC0_Bank3\", \"PC0_Bank3\", \"PC0_Bank3\", \"PC0_Bank3\", \"PC0_Bank3\", \"PC0_Bank3\", \"PC0_Bank3\", \"PC0_Bank3\", \"PC0_Bank3\", \"PC0_Bank4\", \"PC0_Bank4\", \"PC0_Bank4\", \"PC0_Bank4\", \"PC0_Bank4\", \"PC0_Bank4\", \"PC0_Bank4\", \"PC0_Bank4\", \"PC0_Bank4\", \"PC0_Bank4\", \"PC0_Bank5\", \"PC0_Bank5\", \"PC0_Bank5\", \"PC0_Bank5\", \"PC0_Bank5\", \"PC0_Bank5\", \"PC0_Bank5\", \"PC0_Bank5\", \"PC0_Bank5\", \"PC0_Bank6\", \"PC0_Bank6\", \"PC0_Bank6\", \"PC0_Bank6\", \"PC0_Bank6\", \"PC0_Bank6\", \"PC0_Bank6\", \"PC0_Bank6\", \"PC0_Bank7\", \"PC0_Bank7\", \"PC0_Bank7\", \"PC0_Bank7\", \"PC0_Bank7\", \"PC0_Bank7\", \"PC0_Bank7\", \"PC0_Bank8\", \"PC0_Bank8\", \"PC0_Bank8\", \"PC0_Bank8\", \"PC0_Bank8\", \"PC0_Bank8\", \"PC0_Bank9\", \"PC0_Bank9\", \"PC0_Bank9\", \"PC0_Bank9\", \"PC0_Bank9\", \"PC0_Bank10\", \"PC0_Bank10\", \"PC0_Bank10\", \"PC0_Bank10\", \"PC0_Bank10\", \"PC0_Bank11\", \"PC0_Bank11\", \"PC0_Bank11\", \"PC0_Bank11\", \"PC0_Bank11\", \"PC0_Bank12\", \"PC0_Bank12\", \"PC0_Bank12\", \"PC0_Bank12\", \"PC0_Bank13\", \"PC0_Bank13\", \"PC0_Bank13\", \"PC0_Bank13\", \"PC0_Bank14\", \"PC0_Bank14\", \"PC0_Bank14\", \"PC0_Bank14\", \"PC0_Bank15\", \"PC0_Bank15\", \"PC0_Bank15\", \"PC0_Bank15\"]}, {\"marker\": {\"color\": \"Crimson\"}, \"mode\": \"markers\", \"type\": \"scatter\", \"x\": [0, 1, 2, 3, 4, 5, 6, 7, 8, 9, 10, 11, 12, 13, 14, 15, 16, 17, 18, 19, 20, 21, 22, 23, 24, 25, 26, 27, 28, 29, 30, 31, 32, 33, 34, 35, 36, 37, 38, 39, 40, 41, 42, 43, 44, 45, 46, 47, 48, 49, 0, 2, 4, 6, 8, 10, 12, 14, 16, 18, 20, 22, 24, 26, 28, 30, 32, 34, 36, 38, 40, 42, 44, 46, 48, 0, 3, 6, 9, 12, 15, 18, 21, 24, 27, 30, 33, 36, 39, 42, 45, 48, 0, 4, 8, 12, 16, 20, 24, 28, 32, 36, 40, 44, 48, 0, 5, 10, 15, 20, 25, 30, 35, 40, 45, 0, 6, 12, 18, 24, 30, 36, 42, 48, 0, 7, 14, 21, 28, 35, 42, 49, 0, 8, 16, 24, 32, 40, 48, 0, 9, 18, 27, 36, 45, 0, 10, 20, 30, 40, 0, 11, 22, 33, 44, 0, 12, 24, 36, 48, 0, 13, 26, 39, 0, 14, 28, 42, 0, 15, 30, 45, 0, 16, 32, 48], \"y\": [\"PC1_Bank0\", \"PC1_Bank0\", \"PC1_Bank0\", \"PC1_Bank0\", \"PC1_Bank0\", \"PC1_Bank0\", \"PC1_Bank0\", \"PC1_Bank0\", \"PC1_Bank0\", \"PC1_Bank0\", \"PC1_Bank0\", \"PC1_Bank0\", \"PC1_Bank0\", \"PC1_Bank0\", \"PC1_Bank0\", \"PC1_Bank0\", \"PC1_Bank0\", \"PC1_Bank0\", \"PC1_Bank0\", \"PC1_Bank0\", \"PC1_Bank0\", \"PC1_Bank0\", \"PC1_Bank0\", \"PC1_Bank0\", \"PC1_Bank0\", \"PC1_Bank0\", \"PC1_Bank0\", \"PC1_Bank0\", \"PC1_Bank0\", \"PC1_Bank0\", \"PC1_Bank0\", \"PC1_Bank0\", \"PC1_Bank0\", \"PC1_Bank0\", \"PC1_Bank0\", \"PC1_Bank0\", \"PC1_Bank0\", \"PC1_Bank0\", \"PC1_Bank0\", \"PC1_Bank0\", \"PC1_Bank0\", \"PC1_Bank0\", \"PC1_Bank0\", \"PC1_Bank0\", \"PC1_Bank0\", \"PC1_Bank0\", \"PC1_Bank0\", \"PC1_Bank0\", \"PC1_Bank0\", \"PC1_Bank0\", \"PC1_Bank1\", \"PC1_Bank1\", \"PC1_Bank1\", \"PC1_Bank1\", \"PC1_Bank1\", \"PC1_Bank1\", \"PC1_Bank1\", \"PC1_Bank1\", \"PC1_Bank1\", \"PC1_Bank1\", \"PC1_Bank1\", \"PC1_Bank1\", \"PC1_Bank1\", \"PC1_Bank1\", \"PC1_Bank1\", \"PC1_Bank1\", \"PC1_Bank1\", \"PC1_Bank1\", \"PC1_Bank1\", \"PC1_Bank1\", \"PC1_Bank1\", \"PC1_Bank1\", \"PC1_Bank1\", \"PC1_Bank1\", \"PC1_Bank1\", \"PC1_Bank2\", \"PC1_Bank2\", \"PC1_Bank2\", \"PC1_Bank2\", \"PC1_Bank2\", \"PC1_Bank2\", \"PC1_Bank2\", \"PC1_Bank2\", \"PC1_Bank2\", \"PC1_Bank2\", \"PC1_Bank2\", \"PC1_Bank2\", \"PC1_Bank2\", \"PC1_Bank2\", \"PC1_Bank2\", \"PC1_Bank2\", \"PC1_Bank2\", \"PC1_Bank3\", \"PC1_Bank3\", \"PC1_Bank3\", \"PC1_Bank3\", \"PC1_Bank3\", \"PC1_Bank3\", \"PC1_Bank3\", \"PC1_Bank3\", \"PC1_Bank3\", \"PC1_Bank3\", \"PC1_Bank3\", \"PC1_Bank3\", \"PC1_Bank3\", \"PC1_Bank4\", \"PC1_Bank4\", \"PC1_Bank4\", \"PC1_Bank4\", \"PC1_Bank4\", \"PC1_Bank4\", \"PC1_Bank4\", \"PC1_Bank4\", \"PC1_Bank4\", \"PC1_Bank4\", \"PC1_Bank5\", \"PC1_Bank5\", \"PC1_Bank5\", \"PC1_Bank5\", \"PC1_Bank5\", \"PC1_Bank5\", \"PC1_Bank5\", \"PC1_Bank5\", \"PC1_Bank5\", \"PC1_Bank6\", \"PC1_Bank6\", \"PC1_Bank6\", \"PC1_Bank6\", \"PC1_Bank6\", \"PC1_Bank6\", \"PC1_Bank6\", \"PC1_Bank6\", \"PC1_Bank7\", \"PC1_Bank7\", \"PC1_Bank7\", \"PC1_Bank7\", \"PC1_Bank7\", \"PC1_Bank7\", \"PC1_Bank7\", \"PC1_Bank8\", \"PC1_Bank8\", \"PC1_Bank8\", \"PC1_Bank8\", \"PC1_Bank8\", \"PC1_Bank8\", \"PC1_Bank9\", \"PC1_Bank9\", \"PC1_Bank9\", \"PC1_Bank9\", \"PC1_Bank9\", \"PC1_Bank10\", \"PC1_Bank10\", \"PC1_Bank10\", \"PC1_Bank10\", \"PC1_Bank10\", \"PC1_Bank11\", \"PC1_Bank11\", \"PC1_Bank11\", \"PC1_Bank11\", \"PC1_Bank11\", \"PC1_Bank12\", \"PC1_Bank12\", \"PC1_Bank12\", \"PC1_Bank12\", \"PC1_Bank13\", \"PC1_Bank13\", \"PC1_Bank13\", \"PC1_Bank13\", \"PC1_Bank14\", \"PC1_Bank14\", \"PC1_Bank14\", \"PC1_Bank14\", \"PC1_Bank15\", \"PC1_Bank15\", \"PC1_Bank15\", \"PC1_Bank15\"]}],\n",
       "                        {\"template\": {\"data\": {\"bar\": [{\"error_x\": {\"color\": \"#2a3f5f\"}, \"error_y\": {\"color\": \"#2a3f5f\"}, \"marker\": {\"line\": {\"color\": \"#E5ECF6\", \"width\": 0.5}}, \"type\": \"bar\"}], \"barpolar\": [{\"marker\": {\"line\": {\"color\": \"#E5ECF6\", \"width\": 0.5}}, \"type\": \"barpolar\"}], \"carpet\": [{\"aaxis\": {\"endlinecolor\": \"#2a3f5f\", \"gridcolor\": \"white\", \"linecolor\": \"white\", \"minorgridcolor\": \"white\", \"startlinecolor\": \"#2a3f5f\"}, \"baxis\": {\"endlinecolor\": \"#2a3f5f\", \"gridcolor\": \"white\", \"linecolor\": \"white\", \"minorgridcolor\": \"white\", \"startlinecolor\": \"#2a3f5f\"}, \"type\": \"carpet\"}], \"choropleth\": [{\"colorbar\": {\"outlinewidth\": 0, \"ticks\": \"\"}, \"type\": \"choropleth\"}], \"contour\": [{\"colorbar\": {\"outlinewidth\": 0, \"ticks\": \"\"}, \"colorscale\": [[0.0, \"#0d0887\"], [0.1111111111111111, \"#46039f\"], [0.2222222222222222, \"#7201a8\"], [0.3333333333333333, \"#9c179e\"], [0.4444444444444444, \"#bd3786\"], [0.5555555555555556, \"#d8576b\"], [0.6666666666666666, \"#ed7953\"], [0.7777777777777778, \"#fb9f3a\"], [0.8888888888888888, \"#fdca26\"], [1.0, \"#f0f921\"]], \"type\": \"contour\"}], \"contourcarpet\": [{\"colorbar\": {\"outlinewidth\": 0, \"ticks\": \"\"}, \"type\": \"contourcarpet\"}], \"heatmap\": [{\"colorbar\": {\"outlinewidth\": 0, \"ticks\": \"\"}, \"colorscale\": [[0.0, \"#0d0887\"], [0.1111111111111111, \"#46039f\"], [0.2222222222222222, \"#7201a8\"], [0.3333333333333333, \"#9c179e\"], [0.4444444444444444, \"#bd3786\"], [0.5555555555555556, \"#d8576b\"], [0.6666666666666666, \"#ed7953\"], [0.7777777777777778, \"#fb9f3a\"], [0.8888888888888888, \"#fdca26\"], [1.0, \"#f0f921\"]], \"type\": \"heatmap\"}], \"heatmapgl\": [{\"colorbar\": {\"outlinewidth\": 0, \"ticks\": \"\"}, \"colorscale\": [[0.0, \"#0d0887\"], [0.1111111111111111, \"#46039f\"], [0.2222222222222222, \"#7201a8\"], [0.3333333333333333, \"#9c179e\"], [0.4444444444444444, \"#bd3786\"], [0.5555555555555556, \"#d8576b\"], [0.6666666666666666, \"#ed7953\"], [0.7777777777777778, \"#fb9f3a\"], [0.8888888888888888, \"#fdca26\"], [1.0, \"#f0f921\"]], \"type\": \"heatmapgl\"}], \"histogram\": [{\"marker\": {\"colorbar\": {\"outlinewidth\": 0, \"ticks\": \"\"}}, \"type\": \"histogram\"}], \"histogram2d\": [{\"colorbar\": {\"outlinewidth\": 0, \"ticks\": \"\"}, \"colorscale\": [[0.0, \"#0d0887\"], [0.1111111111111111, \"#46039f\"], [0.2222222222222222, \"#7201a8\"], [0.3333333333333333, \"#9c179e\"], [0.4444444444444444, \"#bd3786\"], [0.5555555555555556, \"#d8576b\"], [0.6666666666666666, \"#ed7953\"], [0.7777777777777778, \"#fb9f3a\"], [0.8888888888888888, \"#fdca26\"], [1.0, \"#f0f921\"]], \"type\": \"histogram2d\"}], \"histogram2dcontour\": [{\"colorbar\": {\"outlinewidth\": 0, \"ticks\": \"\"}, \"colorscale\": [[0.0, \"#0d0887\"], [0.1111111111111111, \"#46039f\"], [0.2222222222222222, \"#7201a8\"], [0.3333333333333333, \"#9c179e\"], [0.4444444444444444, \"#bd3786\"], [0.5555555555555556, \"#d8576b\"], [0.6666666666666666, \"#ed7953\"], [0.7777777777777778, \"#fb9f3a\"], [0.8888888888888888, \"#fdca26\"], [1.0, \"#f0f921\"]], \"type\": \"histogram2dcontour\"}], \"mesh3d\": [{\"colorbar\": {\"outlinewidth\": 0, \"ticks\": \"\"}, \"type\": \"mesh3d\"}], \"parcoords\": [{\"line\": {\"colorbar\": {\"outlinewidth\": 0, \"ticks\": \"\"}}, \"type\": \"parcoords\"}], \"pie\": [{\"automargin\": true, \"type\": \"pie\"}], \"scatter\": [{\"marker\": {\"colorbar\": {\"outlinewidth\": 0, \"ticks\": \"\"}}, \"type\": \"scatter\"}], \"scatter3d\": [{\"line\": {\"colorbar\": {\"outlinewidth\": 0, \"ticks\": \"\"}}, \"marker\": {\"colorbar\": {\"outlinewidth\": 0, \"ticks\": \"\"}}, \"type\": \"scatter3d\"}], \"scattercarpet\": [{\"marker\": {\"colorbar\": {\"outlinewidth\": 0, \"ticks\": \"\"}}, \"type\": \"scattercarpet\"}], \"scattergeo\": [{\"marker\": {\"colorbar\": {\"outlinewidth\": 0, \"ticks\": \"\"}}, \"type\": \"scattergeo\"}], \"scattergl\": [{\"marker\": {\"colorbar\": {\"outlinewidth\": 0, \"ticks\": \"\"}}, \"type\": \"scattergl\"}], \"scattermapbox\": [{\"marker\": {\"colorbar\": {\"outlinewidth\": 0, \"ticks\": \"\"}}, \"type\": \"scattermapbox\"}], \"scatterpolar\": [{\"marker\": {\"colorbar\": {\"outlinewidth\": 0, \"ticks\": \"\"}}, \"type\": \"scatterpolar\"}], \"scatterpolargl\": [{\"marker\": {\"colorbar\": {\"outlinewidth\": 0, \"ticks\": \"\"}}, \"type\": \"scatterpolargl\"}], \"scatterternary\": [{\"marker\": {\"colorbar\": {\"outlinewidth\": 0, \"ticks\": \"\"}}, \"type\": \"scatterternary\"}], \"surface\": [{\"colorbar\": {\"outlinewidth\": 0, \"ticks\": \"\"}, \"colorscale\": [[0.0, \"#0d0887\"], [0.1111111111111111, \"#46039f\"], [0.2222222222222222, \"#7201a8\"], [0.3333333333333333, \"#9c179e\"], [0.4444444444444444, \"#bd3786\"], [0.5555555555555556, \"#d8576b\"], [0.6666666666666666, \"#ed7953\"], [0.7777777777777778, \"#fb9f3a\"], [0.8888888888888888, \"#fdca26\"], [1.0, \"#f0f921\"]], \"type\": \"surface\"}], \"table\": [{\"cells\": {\"fill\": {\"color\": \"#EBF0F8\"}, \"line\": {\"color\": \"white\"}}, \"header\": {\"fill\": {\"color\": \"#C8D4E3\"}, \"line\": {\"color\": \"white\"}}, \"type\": \"table\"}]}, \"layout\": {\"annotationdefaults\": {\"arrowcolor\": \"#2a3f5f\", \"arrowhead\": 0, \"arrowwidth\": 1}, \"coloraxis\": {\"colorbar\": {\"outlinewidth\": 0, \"ticks\": \"\"}}, \"colorscale\": {\"diverging\": [[0, \"#8e0152\"], [0.1, \"#c51b7d\"], [0.2, \"#de77ae\"], [0.3, \"#f1b6da\"], [0.4, \"#fde0ef\"], [0.5, \"#f7f7f7\"], [0.6, \"#e6f5d0\"], [0.7, \"#b8e186\"], [0.8, \"#7fbc41\"], [0.9, \"#4d9221\"], [1, \"#276419\"]], \"sequential\": [[0.0, \"#0d0887\"], [0.1111111111111111, \"#46039f\"], [0.2222222222222222, \"#7201a8\"], [0.3333333333333333, \"#9c179e\"], [0.4444444444444444, \"#bd3786\"], [0.5555555555555556, \"#d8576b\"], [0.6666666666666666, \"#ed7953\"], [0.7777777777777778, \"#fb9f3a\"], [0.8888888888888888, \"#fdca26\"], [1.0, \"#f0f921\"]], \"sequentialminus\": [[0.0, \"#0d0887\"], [0.1111111111111111, \"#46039f\"], [0.2222222222222222, \"#7201a8\"], [0.3333333333333333, \"#9c179e\"], [0.4444444444444444, \"#bd3786\"], [0.5555555555555556, \"#d8576b\"], [0.6666666666666666, \"#ed7953\"], [0.7777777777777778, \"#fb9f3a\"], [0.8888888888888888, \"#fdca26\"], [1.0, \"#f0f921\"]]}, \"colorway\": [\"#636efa\", \"#EF553B\", \"#00cc96\", \"#ab63fa\", \"#FFA15A\", \"#19d3f3\", \"#FF6692\", \"#B6E880\", \"#FF97FF\", \"#FECB52\"], \"font\": {\"color\": \"#2a3f5f\"}, \"geo\": {\"bgcolor\": \"white\", \"lakecolor\": \"white\", \"landcolor\": \"#E5ECF6\", \"showlakes\": true, \"showland\": true, \"subunitcolor\": \"white\"}, \"hoverlabel\": {\"align\": \"left\"}, \"hovermode\": \"closest\", \"mapbox\": {\"style\": \"light\"}, \"paper_bgcolor\": \"white\", \"plot_bgcolor\": \"#E5ECF6\", \"polar\": {\"angularaxis\": {\"gridcolor\": \"white\", \"linecolor\": \"white\", \"ticks\": \"\"}, \"bgcolor\": \"#E5ECF6\", \"radialaxis\": {\"gridcolor\": \"white\", \"linecolor\": \"white\", \"ticks\": \"\"}}, \"scene\": {\"xaxis\": {\"backgroundcolor\": \"#E5ECF6\", \"gridcolor\": \"white\", \"gridwidth\": 2, \"linecolor\": \"white\", \"showbackground\": true, \"ticks\": \"\", \"zerolinecolor\": \"white\"}, \"yaxis\": {\"backgroundcolor\": \"#E5ECF6\", \"gridcolor\": \"white\", \"gridwidth\": 2, \"linecolor\": \"white\", \"showbackground\": true, \"ticks\": \"\", \"zerolinecolor\": \"white\"}, \"zaxis\": {\"backgroundcolor\": \"#E5ECF6\", \"gridcolor\": \"white\", \"gridwidth\": 2, \"linecolor\": \"white\", \"showbackground\": true, \"ticks\": \"\", \"zerolinecolor\": \"white\"}}, \"shapedefaults\": {\"line\": {\"color\": \"#2a3f5f\"}}, \"ternary\": {\"aaxis\": {\"gridcolor\": \"white\", \"linecolor\": \"white\", \"ticks\": \"\"}, \"baxis\": {\"gridcolor\": \"white\", \"linecolor\": \"white\", \"ticks\": \"\"}, \"bgcolor\": \"#E5ECF6\", \"caxis\": {\"gridcolor\": \"white\", \"linecolor\": \"white\", \"ticks\": \"\"}}, \"title\": {\"x\": 0.05}, \"xaxis\": {\"automargin\": true, \"gridcolor\": \"white\", \"linecolor\": \"white\", \"ticks\": \"\", \"title\": {\"standoff\": 15}, \"zerolinecolor\": \"white\", \"zerolinewidth\": 2}, \"yaxis\": {\"automargin\": true, \"gridcolor\": \"white\", \"linecolor\": \"white\", \"ticks\": \"\", \"title\": {\"standoff\": 15}, \"zerolinecolor\": \"white\", \"zerolinewidth\": 2}}}},\n",
       "                        {\"responsive\": true}\n",
       "                    ).then(function(){\n",
       "                            \n",
       "var gd = document.getElementById('d0a031ee-c357-4bf8-be30-8e5ee24a86c4');\n",
       "var x = new MutationObserver(function (mutations, observer) {{\n",
       "        var display = window.getComputedStyle(gd).display;\n",
       "        if (!display || display === 'none') {{\n",
       "            console.log([gd, 'removed!']);\n",
       "            Plotly.purge(gd);\n",
       "            observer.disconnect();\n",
       "        }}\n",
       "}});\n",
       "\n",
       "// Listen for the removal of the full notebook cells\n",
       "var notebookContainer = gd.closest('#notebook-container');\n",
       "if (notebookContainer) {{\n",
       "    x.observe(notebookContainer, {childList: true});\n",
       "}}\n",
       "\n",
       "// Listen for the clearing of the current output cell\n",
       "var outputEl = gd.closest('.output');\n",
       "if (outputEl) {{\n",
       "    x.observe(outputEl, {childList: true});\n",
       "}}\n",
       "\n",
       "                        })\n",
       "                };\n",
       "                });\n",
       "            </script>\n",
       "        </div>"
      ]
     },
     "metadata": {},
     "output_type": "display_data"
    }
   ],
   "source": [
    "fig.add_trace(\n",
    "    go.Scatter(\n",
    "        x=x1,\n",
    "        y=y1,\n",
    "        mode=\"markers\",\n",
    "        marker=dict(color=\"Crimson\")\n",
    "    )\n",
    ")\n",
    "\n",
    "fig.add_trace(\n",
    "    go.Scatter(\n",
    "        x=x2,\n",
    "        y=y2,\n",
    "        mode=\"markers\",\n",
    "        marker=dict(color=\"Crimson\")\n",
    "    )\n",
    ")"
   ]
  },
  {
   "cell_type": "markdown",
   "metadata": {},
   "source": [
    "Add dropdown here"
   ]
  },
  {
   "cell_type": "code",
   "execution_count": 102,
   "metadata": {},
   "outputs": [
    {
     "data": {
      "application/vnd.plotly.v1+json": {
       "config": {
        "plotlyServerURL": "https://plot.ly"
       },
       "data": [
        {
         "marker": {
          "color": "Crimson"
         },
         "mode": "markers",
         "type": "scatter",
         "x": [
          0,
          1,
          2,
          3,
          4,
          5,
          6,
          7,
          8,
          9,
          10,
          11,
          12,
          13,
          14,
          15,
          16,
          17,
          18,
          19,
          20,
          21,
          22,
          23,
          24,
          25,
          26,
          27,
          28,
          29,
          30,
          31,
          32,
          33,
          34,
          35,
          36,
          37,
          38,
          39,
          40,
          41,
          42,
          43,
          44,
          45,
          46,
          47,
          48,
          49,
          0,
          2,
          4,
          6,
          8,
          10,
          12,
          14,
          16,
          18,
          20,
          22,
          24,
          26,
          28,
          30,
          32,
          34,
          36,
          38,
          40,
          42,
          44,
          46,
          48,
          0,
          3,
          6,
          9,
          12,
          15,
          18,
          21,
          24,
          27,
          30,
          33,
          36,
          39,
          42,
          45,
          48,
          0,
          4,
          8,
          12,
          16,
          20,
          24,
          28,
          32,
          36,
          40,
          44,
          48,
          0,
          5,
          10,
          15,
          20,
          25,
          30,
          35,
          40,
          45,
          0,
          6,
          12,
          18,
          24,
          30,
          36,
          42,
          48,
          0,
          7,
          14,
          21,
          28,
          35,
          42,
          49,
          0,
          8,
          16,
          24,
          32,
          40,
          48,
          0,
          9,
          18,
          27,
          36,
          45,
          0,
          10,
          20,
          30,
          40,
          0,
          11,
          22,
          33,
          44,
          0,
          12,
          24,
          36,
          48,
          0,
          13,
          26,
          39,
          0,
          14,
          28,
          42,
          0,
          15,
          30,
          45,
          0,
          16,
          32,
          48
         ],
         "y": [
          "PC0_Bank0",
          "PC0_Bank0",
          "PC0_Bank0",
          "PC0_Bank0",
          "PC0_Bank0",
          "PC0_Bank0",
          "PC0_Bank0",
          "PC0_Bank0",
          "PC0_Bank0",
          "PC0_Bank0",
          "PC0_Bank0",
          "PC0_Bank0",
          "PC0_Bank0",
          "PC0_Bank0",
          "PC0_Bank0",
          "PC0_Bank0",
          "PC0_Bank0",
          "PC0_Bank0",
          "PC0_Bank0",
          "PC0_Bank0",
          "PC0_Bank0",
          "PC0_Bank0",
          "PC0_Bank0",
          "PC0_Bank0",
          "PC0_Bank0",
          "PC0_Bank0",
          "PC0_Bank0",
          "PC0_Bank0",
          "PC0_Bank0",
          "PC0_Bank0",
          "PC0_Bank0",
          "PC0_Bank0",
          "PC0_Bank0",
          "PC0_Bank0",
          "PC0_Bank0",
          "PC0_Bank0",
          "PC0_Bank0",
          "PC0_Bank0",
          "PC0_Bank0",
          "PC0_Bank0",
          "PC0_Bank0",
          "PC0_Bank0",
          "PC0_Bank0",
          "PC0_Bank0",
          "PC0_Bank0",
          "PC0_Bank0",
          "PC0_Bank0",
          "PC0_Bank0",
          "PC0_Bank0",
          "PC0_Bank0",
          "PC0_Bank1",
          "PC0_Bank1",
          "PC0_Bank1",
          "PC0_Bank1",
          "PC0_Bank1",
          "PC0_Bank1",
          "PC0_Bank1",
          "PC0_Bank1",
          "PC0_Bank1",
          "PC0_Bank1",
          "PC0_Bank1",
          "PC0_Bank1",
          "PC0_Bank1",
          "PC0_Bank1",
          "PC0_Bank1",
          "PC0_Bank1",
          "PC0_Bank1",
          "PC0_Bank1",
          "PC0_Bank1",
          "PC0_Bank1",
          "PC0_Bank1",
          "PC0_Bank1",
          "PC0_Bank1",
          "PC0_Bank1",
          "PC0_Bank1",
          "PC0_Bank2",
          "PC0_Bank2",
          "PC0_Bank2",
          "PC0_Bank2",
          "PC0_Bank2",
          "PC0_Bank2",
          "PC0_Bank2",
          "PC0_Bank2",
          "PC0_Bank2",
          "PC0_Bank2",
          "PC0_Bank2",
          "PC0_Bank2",
          "PC0_Bank2",
          "PC0_Bank2",
          "PC0_Bank2",
          "PC0_Bank2",
          "PC0_Bank2",
          "PC0_Bank3",
          "PC0_Bank3",
          "PC0_Bank3",
          "PC0_Bank3",
          "PC0_Bank3",
          "PC0_Bank3",
          "PC0_Bank3",
          "PC0_Bank3",
          "PC0_Bank3",
          "PC0_Bank3",
          "PC0_Bank3",
          "PC0_Bank3",
          "PC0_Bank3",
          "PC0_Bank4",
          "PC0_Bank4",
          "PC0_Bank4",
          "PC0_Bank4",
          "PC0_Bank4",
          "PC0_Bank4",
          "PC0_Bank4",
          "PC0_Bank4",
          "PC0_Bank4",
          "PC0_Bank4",
          "PC0_Bank5",
          "PC0_Bank5",
          "PC0_Bank5",
          "PC0_Bank5",
          "PC0_Bank5",
          "PC0_Bank5",
          "PC0_Bank5",
          "PC0_Bank5",
          "PC0_Bank5",
          "PC0_Bank6",
          "PC0_Bank6",
          "PC0_Bank6",
          "PC0_Bank6",
          "PC0_Bank6",
          "PC0_Bank6",
          "PC0_Bank6",
          "PC0_Bank6",
          "PC0_Bank7",
          "PC0_Bank7",
          "PC0_Bank7",
          "PC0_Bank7",
          "PC0_Bank7",
          "PC0_Bank7",
          "PC0_Bank7",
          "PC0_Bank8",
          "PC0_Bank8",
          "PC0_Bank8",
          "PC0_Bank8",
          "PC0_Bank8",
          "PC0_Bank8",
          "PC0_Bank9",
          "PC0_Bank9",
          "PC0_Bank9",
          "PC0_Bank9",
          "PC0_Bank9",
          "PC0_Bank10",
          "PC0_Bank10",
          "PC0_Bank10",
          "PC0_Bank10",
          "PC0_Bank10",
          "PC0_Bank11",
          "PC0_Bank11",
          "PC0_Bank11",
          "PC0_Bank11",
          "PC0_Bank11",
          "PC0_Bank12",
          "PC0_Bank12",
          "PC0_Bank12",
          "PC0_Bank12",
          "PC0_Bank13",
          "PC0_Bank13",
          "PC0_Bank13",
          "PC0_Bank13",
          "PC0_Bank14",
          "PC0_Bank14",
          "PC0_Bank14",
          "PC0_Bank14",
          "PC0_Bank15",
          "PC0_Bank15",
          "PC0_Bank15",
          "PC0_Bank15"
         ]
        },
        {
         "marker": {
          "color": "Crimson"
         },
         "mode": "markers",
         "type": "scatter",
         "x": [
          0,
          1,
          2,
          3,
          4,
          5,
          6,
          7,
          8,
          9,
          10,
          11,
          12,
          13,
          14,
          15,
          16,
          17,
          18,
          19,
          20,
          21,
          22,
          23,
          24,
          25,
          26,
          27,
          28,
          29,
          30,
          31,
          32,
          33,
          34,
          35,
          36,
          37,
          38,
          39,
          40,
          41,
          42,
          43,
          44,
          45,
          46,
          47,
          48,
          49,
          0,
          2,
          4,
          6,
          8,
          10,
          12,
          14,
          16,
          18,
          20,
          22,
          24,
          26,
          28,
          30,
          32,
          34,
          36,
          38,
          40,
          42,
          44,
          46,
          48,
          0,
          3,
          6,
          9,
          12,
          15,
          18,
          21,
          24,
          27,
          30,
          33,
          36,
          39,
          42,
          45,
          48,
          0,
          4,
          8,
          12,
          16,
          20,
          24,
          28,
          32,
          36,
          40,
          44,
          48,
          0,
          5,
          10,
          15,
          20,
          25,
          30,
          35,
          40,
          45,
          0,
          6,
          12,
          18,
          24,
          30,
          36,
          42,
          48,
          0,
          7,
          14,
          21,
          28,
          35,
          42,
          49,
          0,
          8,
          16,
          24,
          32,
          40,
          48,
          0,
          9,
          18,
          27,
          36,
          45,
          0,
          10,
          20,
          30,
          40,
          0,
          11,
          22,
          33,
          44,
          0,
          12,
          24,
          36,
          48,
          0,
          13,
          26,
          39,
          0,
          14,
          28,
          42,
          0,
          15,
          30,
          45,
          0,
          16,
          32,
          48
         ],
         "y": [
          "PC1_Bank0",
          "PC1_Bank0",
          "PC1_Bank0",
          "PC1_Bank0",
          "PC1_Bank0",
          "PC1_Bank0",
          "PC1_Bank0",
          "PC1_Bank0",
          "PC1_Bank0",
          "PC1_Bank0",
          "PC1_Bank0",
          "PC1_Bank0",
          "PC1_Bank0",
          "PC1_Bank0",
          "PC1_Bank0",
          "PC1_Bank0",
          "PC1_Bank0",
          "PC1_Bank0",
          "PC1_Bank0",
          "PC1_Bank0",
          "PC1_Bank0",
          "PC1_Bank0",
          "PC1_Bank0",
          "PC1_Bank0",
          "PC1_Bank0",
          "PC1_Bank0",
          "PC1_Bank0",
          "PC1_Bank0",
          "PC1_Bank0",
          "PC1_Bank0",
          "PC1_Bank0",
          "PC1_Bank0",
          "PC1_Bank0",
          "PC1_Bank0",
          "PC1_Bank0",
          "PC1_Bank0",
          "PC1_Bank0",
          "PC1_Bank0",
          "PC1_Bank0",
          "PC1_Bank0",
          "PC1_Bank0",
          "PC1_Bank0",
          "PC1_Bank0",
          "PC1_Bank0",
          "PC1_Bank0",
          "PC1_Bank0",
          "PC1_Bank0",
          "PC1_Bank0",
          "PC1_Bank0",
          "PC1_Bank0",
          "PC1_Bank1",
          "PC1_Bank1",
          "PC1_Bank1",
          "PC1_Bank1",
          "PC1_Bank1",
          "PC1_Bank1",
          "PC1_Bank1",
          "PC1_Bank1",
          "PC1_Bank1",
          "PC1_Bank1",
          "PC1_Bank1",
          "PC1_Bank1",
          "PC1_Bank1",
          "PC1_Bank1",
          "PC1_Bank1",
          "PC1_Bank1",
          "PC1_Bank1",
          "PC1_Bank1",
          "PC1_Bank1",
          "PC1_Bank1",
          "PC1_Bank1",
          "PC1_Bank1",
          "PC1_Bank1",
          "PC1_Bank1",
          "PC1_Bank1",
          "PC1_Bank2",
          "PC1_Bank2",
          "PC1_Bank2",
          "PC1_Bank2",
          "PC1_Bank2",
          "PC1_Bank2",
          "PC1_Bank2",
          "PC1_Bank2",
          "PC1_Bank2",
          "PC1_Bank2",
          "PC1_Bank2",
          "PC1_Bank2",
          "PC1_Bank2",
          "PC1_Bank2",
          "PC1_Bank2",
          "PC1_Bank2",
          "PC1_Bank2",
          "PC1_Bank3",
          "PC1_Bank3",
          "PC1_Bank3",
          "PC1_Bank3",
          "PC1_Bank3",
          "PC1_Bank3",
          "PC1_Bank3",
          "PC1_Bank3",
          "PC1_Bank3",
          "PC1_Bank3",
          "PC1_Bank3",
          "PC1_Bank3",
          "PC1_Bank3",
          "PC1_Bank4",
          "PC1_Bank4",
          "PC1_Bank4",
          "PC1_Bank4",
          "PC1_Bank4",
          "PC1_Bank4",
          "PC1_Bank4",
          "PC1_Bank4",
          "PC1_Bank4",
          "PC1_Bank4",
          "PC1_Bank5",
          "PC1_Bank5",
          "PC1_Bank5",
          "PC1_Bank5",
          "PC1_Bank5",
          "PC1_Bank5",
          "PC1_Bank5",
          "PC1_Bank5",
          "PC1_Bank5",
          "PC1_Bank6",
          "PC1_Bank6",
          "PC1_Bank6",
          "PC1_Bank6",
          "PC1_Bank6",
          "PC1_Bank6",
          "PC1_Bank6",
          "PC1_Bank6",
          "PC1_Bank7",
          "PC1_Bank7",
          "PC1_Bank7",
          "PC1_Bank7",
          "PC1_Bank7",
          "PC1_Bank7",
          "PC1_Bank7",
          "PC1_Bank8",
          "PC1_Bank8",
          "PC1_Bank8",
          "PC1_Bank8",
          "PC1_Bank8",
          "PC1_Bank8",
          "PC1_Bank9",
          "PC1_Bank9",
          "PC1_Bank9",
          "PC1_Bank9",
          "PC1_Bank9",
          "PC1_Bank10",
          "PC1_Bank10",
          "PC1_Bank10",
          "PC1_Bank10",
          "PC1_Bank10",
          "PC1_Bank11",
          "PC1_Bank11",
          "PC1_Bank11",
          "PC1_Bank11",
          "PC1_Bank11",
          "PC1_Bank12",
          "PC1_Bank12",
          "PC1_Bank12",
          "PC1_Bank12",
          "PC1_Bank13",
          "PC1_Bank13",
          "PC1_Bank13",
          "PC1_Bank13",
          "PC1_Bank14",
          "PC1_Bank14",
          "PC1_Bank14",
          "PC1_Bank14",
          "PC1_Bank15",
          "PC1_Bank15",
          "PC1_Bank15",
          "PC1_Bank15"
         ]
        }
       ],
       "layout": {
        "template": {
         "data": {
          "bar": [
           {
            "error_x": {
             "color": "#2a3f5f"
            },
            "error_y": {
             "color": "#2a3f5f"
            },
            "marker": {
             "line": {
              "color": "#E5ECF6",
              "width": 0.5
             }
            },
            "type": "bar"
           }
          ],
          "barpolar": [
           {
            "marker": {
             "line": {
              "color": "#E5ECF6",
              "width": 0.5
             }
            },
            "type": "barpolar"
           }
          ],
          "carpet": [
           {
            "aaxis": {
             "endlinecolor": "#2a3f5f",
             "gridcolor": "white",
             "linecolor": "white",
             "minorgridcolor": "white",
             "startlinecolor": "#2a3f5f"
            },
            "baxis": {
             "endlinecolor": "#2a3f5f",
             "gridcolor": "white",
             "linecolor": "white",
             "minorgridcolor": "white",
             "startlinecolor": "#2a3f5f"
            },
            "type": "carpet"
           }
          ],
          "choropleth": [
           {
            "colorbar": {
             "outlinewidth": 0,
             "ticks": ""
            },
            "type": "choropleth"
           }
          ],
          "contour": [
           {
            "colorbar": {
             "outlinewidth": 0,
             "ticks": ""
            },
            "colorscale": [
             [
              0,
              "#0d0887"
             ],
             [
              0.1111111111111111,
              "#46039f"
             ],
             [
              0.2222222222222222,
              "#7201a8"
             ],
             [
              0.3333333333333333,
              "#9c179e"
             ],
             [
              0.4444444444444444,
              "#bd3786"
             ],
             [
              0.5555555555555556,
              "#d8576b"
             ],
             [
              0.6666666666666666,
              "#ed7953"
             ],
             [
              0.7777777777777778,
              "#fb9f3a"
             ],
             [
              0.8888888888888888,
              "#fdca26"
             ],
             [
              1,
              "#f0f921"
             ]
            ],
            "type": "contour"
           }
          ],
          "contourcarpet": [
           {
            "colorbar": {
             "outlinewidth": 0,
             "ticks": ""
            },
            "type": "contourcarpet"
           }
          ],
          "heatmap": [
           {
            "colorbar": {
             "outlinewidth": 0,
             "ticks": ""
            },
            "colorscale": [
             [
              0,
              "#0d0887"
             ],
             [
              0.1111111111111111,
              "#46039f"
             ],
             [
              0.2222222222222222,
              "#7201a8"
             ],
             [
              0.3333333333333333,
              "#9c179e"
             ],
             [
              0.4444444444444444,
              "#bd3786"
             ],
             [
              0.5555555555555556,
              "#d8576b"
             ],
             [
              0.6666666666666666,
              "#ed7953"
             ],
             [
              0.7777777777777778,
              "#fb9f3a"
             ],
             [
              0.8888888888888888,
              "#fdca26"
             ],
             [
              1,
              "#f0f921"
             ]
            ],
            "type": "heatmap"
           }
          ],
          "heatmapgl": [
           {
            "colorbar": {
             "outlinewidth": 0,
             "ticks": ""
            },
            "colorscale": [
             [
              0,
              "#0d0887"
             ],
             [
              0.1111111111111111,
              "#46039f"
             ],
             [
              0.2222222222222222,
              "#7201a8"
             ],
             [
              0.3333333333333333,
              "#9c179e"
             ],
             [
              0.4444444444444444,
              "#bd3786"
             ],
             [
              0.5555555555555556,
              "#d8576b"
             ],
             [
              0.6666666666666666,
              "#ed7953"
             ],
             [
              0.7777777777777778,
              "#fb9f3a"
             ],
             [
              0.8888888888888888,
              "#fdca26"
             ],
             [
              1,
              "#f0f921"
             ]
            ],
            "type": "heatmapgl"
           }
          ],
          "histogram": [
           {
            "marker": {
             "colorbar": {
              "outlinewidth": 0,
              "ticks": ""
             }
            },
            "type": "histogram"
           }
          ],
          "histogram2d": [
           {
            "colorbar": {
             "outlinewidth": 0,
             "ticks": ""
            },
            "colorscale": [
             [
              0,
              "#0d0887"
             ],
             [
              0.1111111111111111,
              "#46039f"
             ],
             [
              0.2222222222222222,
              "#7201a8"
             ],
             [
              0.3333333333333333,
              "#9c179e"
             ],
             [
              0.4444444444444444,
              "#bd3786"
             ],
             [
              0.5555555555555556,
              "#d8576b"
             ],
             [
              0.6666666666666666,
              "#ed7953"
             ],
             [
              0.7777777777777778,
              "#fb9f3a"
             ],
             [
              0.8888888888888888,
              "#fdca26"
             ],
             [
              1,
              "#f0f921"
             ]
            ],
            "type": "histogram2d"
           }
          ],
          "histogram2dcontour": [
           {
            "colorbar": {
             "outlinewidth": 0,
             "ticks": ""
            },
            "colorscale": [
             [
              0,
              "#0d0887"
             ],
             [
              0.1111111111111111,
              "#46039f"
             ],
             [
              0.2222222222222222,
              "#7201a8"
             ],
             [
              0.3333333333333333,
              "#9c179e"
             ],
             [
              0.4444444444444444,
              "#bd3786"
             ],
             [
              0.5555555555555556,
              "#d8576b"
             ],
             [
              0.6666666666666666,
              "#ed7953"
             ],
             [
              0.7777777777777778,
              "#fb9f3a"
             ],
             [
              0.8888888888888888,
              "#fdca26"
             ],
             [
              1,
              "#f0f921"
             ]
            ],
            "type": "histogram2dcontour"
           }
          ],
          "mesh3d": [
           {
            "colorbar": {
             "outlinewidth": 0,
             "ticks": ""
            },
            "type": "mesh3d"
           }
          ],
          "parcoords": [
           {
            "line": {
             "colorbar": {
              "outlinewidth": 0,
              "ticks": ""
             }
            },
            "type": "parcoords"
           }
          ],
          "pie": [
           {
            "automargin": true,
            "type": "pie"
           }
          ],
          "scatter": [
           {
            "marker": {
             "colorbar": {
              "outlinewidth": 0,
              "ticks": ""
             }
            },
            "type": "scatter"
           }
          ],
          "scatter3d": [
           {
            "line": {
             "colorbar": {
              "outlinewidth": 0,
              "ticks": ""
             }
            },
            "marker": {
             "colorbar": {
              "outlinewidth": 0,
              "ticks": ""
             }
            },
            "type": "scatter3d"
           }
          ],
          "scattercarpet": [
           {
            "marker": {
             "colorbar": {
              "outlinewidth": 0,
              "ticks": ""
             }
            },
            "type": "scattercarpet"
           }
          ],
          "scattergeo": [
           {
            "marker": {
             "colorbar": {
              "outlinewidth": 0,
              "ticks": ""
             }
            },
            "type": "scattergeo"
           }
          ],
          "scattergl": [
           {
            "marker": {
             "colorbar": {
              "outlinewidth": 0,
              "ticks": ""
             }
            },
            "type": "scattergl"
           }
          ],
          "scattermapbox": [
           {
            "marker": {
             "colorbar": {
              "outlinewidth": 0,
              "ticks": ""
             }
            },
            "type": "scattermapbox"
           }
          ],
          "scatterpolar": [
           {
            "marker": {
             "colorbar": {
              "outlinewidth": 0,
              "ticks": ""
             }
            },
            "type": "scatterpolar"
           }
          ],
          "scatterpolargl": [
           {
            "marker": {
             "colorbar": {
              "outlinewidth": 0,
              "ticks": ""
             }
            },
            "type": "scatterpolargl"
           }
          ],
          "scatterternary": [
           {
            "marker": {
             "colorbar": {
              "outlinewidth": 0,
              "ticks": ""
             }
            },
            "type": "scatterternary"
           }
          ],
          "surface": [
           {
            "colorbar": {
             "outlinewidth": 0,
             "ticks": ""
            },
            "colorscale": [
             [
              0,
              "#0d0887"
             ],
             [
              0.1111111111111111,
              "#46039f"
             ],
             [
              0.2222222222222222,
              "#7201a8"
             ],
             [
              0.3333333333333333,
              "#9c179e"
             ],
             [
              0.4444444444444444,
              "#bd3786"
             ],
             [
              0.5555555555555556,
              "#d8576b"
             ],
             [
              0.6666666666666666,
              "#ed7953"
             ],
             [
              0.7777777777777778,
              "#fb9f3a"
             ],
             [
              0.8888888888888888,
              "#fdca26"
             ],
             [
              1,
              "#f0f921"
             ]
            ],
            "type": "surface"
           }
          ],
          "table": [
           {
            "cells": {
             "fill": {
              "color": "#EBF0F8"
             },
             "line": {
              "color": "white"
             }
            },
            "header": {
             "fill": {
              "color": "#C8D4E3"
             },
             "line": {
              "color": "white"
             }
            },
            "type": "table"
           }
          ]
         },
         "layout": {
          "annotationdefaults": {
           "arrowcolor": "#2a3f5f",
           "arrowhead": 0,
           "arrowwidth": 1
          },
          "coloraxis": {
           "colorbar": {
            "outlinewidth": 0,
            "ticks": ""
           }
          },
          "colorscale": {
           "diverging": [
            [
             0,
             "#8e0152"
            ],
            [
             0.1,
             "#c51b7d"
            ],
            [
             0.2,
             "#de77ae"
            ],
            [
             0.3,
             "#f1b6da"
            ],
            [
             0.4,
             "#fde0ef"
            ],
            [
             0.5,
             "#f7f7f7"
            ],
            [
             0.6,
             "#e6f5d0"
            ],
            [
             0.7,
             "#b8e186"
            ],
            [
             0.8,
             "#7fbc41"
            ],
            [
             0.9,
             "#4d9221"
            ],
            [
             1,
             "#276419"
            ]
           ],
           "sequential": [
            [
             0,
             "#0d0887"
            ],
            [
             0.1111111111111111,
             "#46039f"
            ],
            [
             0.2222222222222222,
             "#7201a8"
            ],
            [
             0.3333333333333333,
             "#9c179e"
            ],
            [
             0.4444444444444444,
             "#bd3786"
            ],
            [
             0.5555555555555556,
             "#d8576b"
            ],
            [
             0.6666666666666666,
             "#ed7953"
            ],
            [
             0.7777777777777778,
             "#fb9f3a"
            ],
            [
             0.8888888888888888,
             "#fdca26"
            ],
            [
             1,
             "#f0f921"
            ]
           ],
           "sequentialminus": [
            [
             0,
             "#0d0887"
            ],
            [
             0.1111111111111111,
             "#46039f"
            ],
            [
             0.2222222222222222,
             "#7201a8"
            ],
            [
             0.3333333333333333,
             "#9c179e"
            ],
            [
             0.4444444444444444,
             "#bd3786"
            ],
            [
             0.5555555555555556,
             "#d8576b"
            ],
            [
             0.6666666666666666,
             "#ed7953"
            ],
            [
             0.7777777777777778,
             "#fb9f3a"
            ],
            [
             0.8888888888888888,
             "#fdca26"
            ],
            [
             1,
             "#f0f921"
            ]
           ]
          },
          "colorway": [
           "#636efa",
           "#EF553B",
           "#00cc96",
           "#ab63fa",
           "#FFA15A",
           "#19d3f3",
           "#FF6692",
           "#B6E880",
           "#FF97FF",
           "#FECB52"
          ],
          "font": {
           "color": "#2a3f5f"
          },
          "geo": {
           "bgcolor": "white",
           "lakecolor": "white",
           "landcolor": "#E5ECF6",
           "showlakes": true,
           "showland": true,
           "subunitcolor": "white"
          },
          "hoverlabel": {
           "align": "left"
          },
          "hovermode": "closest",
          "mapbox": {
           "style": "light"
          },
          "paper_bgcolor": "white",
          "plot_bgcolor": "#E5ECF6",
          "polar": {
           "angularaxis": {
            "gridcolor": "white",
            "linecolor": "white",
            "ticks": ""
           },
           "bgcolor": "#E5ECF6",
           "radialaxis": {
            "gridcolor": "white",
            "linecolor": "white",
            "ticks": ""
           }
          },
          "scene": {
           "xaxis": {
            "backgroundcolor": "#E5ECF6",
            "gridcolor": "white",
            "gridwidth": 2,
            "linecolor": "white",
            "showbackground": true,
            "ticks": "",
            "zerolinecolor": "white"
           },
           "yaxis": {
            "backgroundcolor": "#E5ECF6",
            "gridcolor": "white",
            "gridwidth": 2,
            "linecolor": "white",
            "showbackground": true,
            "ticks": "",
            "zerolinecolor": "white"
           },
           "zaxis": {
            "backgroundcolor": "#E5ECF6",
            "gridcolor": "white",
            "gridwidth": 2,
            "linecolor": "white",
            "showbackground": true,
            "ticks": "",
            "zerolinecolor": "white"
           }
          },
          "shapedefaults": {
           "line": {
            "color": "#2a3f5f"
           }
          },
          "ternary": {
           "aaxis": {
            "gridcolor": "white",
            "linecolor": "white",
            "ticks": ""
           },
           "baxis": {
            "gridcolor": "white",
            "linecolor": "white",
            "ticks": ""
           },
           "bgcolor": "#E5ECF6",
           "caxis": {
            "gridcolor": "white",
            "linecolor": "white",
            "ticks": ""
           }
          },
          "title": {
           "x": 0.05
          },
          "xaxis": {
           "automargin": true,
           "gridcolor": "white",
           "linecolor": "white",
           "ticks": "",
           "title": {
            "standoff": 15
           },
           "zerolinecolor": "white",
           "zerolinewidth": 2
          },
          "yaxis": {
           "automargin": true,
           "gridcolor": "white",
           "linecolor": "white",
           "ticks": "",
           "title": {
            "standoff": 15
           },
           "zerolinecolor": "white",
           "zerolinewidth": 2
          }
         }
        },
        "updatemenus": [
         {
          "buttons": [
           {
            "args": [
             {
              "visible": [
               true,
               false
              ]
             }
            ],
            "label": "PC0",
            "method": "update"
           },
           {
            "args": [
             {
              "visible": [
               false,
               true
              ]
             }
            ],
            "label": "PC1",
            "method": "update"
           },
           {
            "args": [
             {
              "visible": [
               true,
               true
              ]
             }
            ],
            "label": "Complete Plot",
            "method": "update"
           }
          ],
          "direction": "down",
          "pad": {
           "r": 10,
           "t": 10
          },
          "showactive": true,
          "x": 0.1,
          "xanchor": "left",
          "y": 1.1,
          "yanchor": "top"
         }
        ]
       }
      },
      "text/html": [
       "<div>\n",
       "        \n",
       "        \n",
       "            <div id=\"d01d77ad-0cf8-43df-888f-2db05fcea2e0\" class=\"plotly-graph-div\" style=\"height:525px; width:100%;\"></div>\n",
       "            <script type=\"text/javascript\">\n",
       "                require([\"plotly\"], function(Plotly) {\n",
       "                    window.PLOTLYENV=window.PLOTLYENV || {};\n",
       "                    \n",
       "                if (document.getElementById(\"d01d77ad-0cf8-43df-888f-2db05fcea2e0\")) {\n",
       "                    Plotly.newPlot(\n",
       "                        'd01d77ad-0cf8-43df-888f-2db05fcea2e0',\n",
       "                        [{\"marker\": {\"color\": \"Crimson\"}, \"mode\": \"markers\", \"type\": \"scatter\", \"x\": [0, 1, 2, 3, 4, 5, 6, 7, 8, 9, 10, 11, 12, 13, 14, 15, 16, 17, 18, 19, 20, 21, 22, 23, 24, 25, 26, 27, 28, 29, 30, 31, 32, 33, 34, 35, 36, 37, 38, 39, 40, 41, 42, 43, 44, 45, 46, 47, 48, 49, 0, 2, 4, 6, 8, 10, 12, 14, 16, 18, 20, 22, 24, 26, 28, 30, 32, 34, 36, 38, 40, 42, 44, 46, 48, 0, 3, 6, 9, 12, 15, 18, 21, 24, 27, 30, 33, 36, 39, 42, 45, 48, 0, 4, 8, 12, 16, 20, 24, 28, 32, 36, 40, 44, 48, 0, 5, 10, 15, 20, 25, 30, 35, 40, 45, 0, 6, 12, 18, 24, 30, 36, 42, 48, 0, 7, 14, 21, 28, 35, 42, 49, 0, 8, 16, 24, 32, 40, 48, 0, 9, 18, 27, 36, 45, 0, 10, 20, 30, 40, 0, 11, 22, 33, 44, 0, 12, 24, 36, 48, 0, 13, 26, 39, 0, 14, 28, 42, 0, 15, 30, 45, 0, 16, 32, 48], \"y\": [\"PC0_Bank0\", \"PC0_Bank0\", \"PC0_Bank0\", \"PC0_Bank0\", \"PC0_Bank0\", \"PC0_Bank0\", \"PC0_Bank0\", \"PC0_Bank0\", \"PC0_Bank0\", \"PC0_Bank0\", \"PC0_Bank0\", \"PC0_Bank0\", \"PC0_Bank0\", \"PC0_Bank0\", \"PC0_Bank0\", \"PC0_Bank0\", \"PC0_Bank0\", \"PC0_Bank0\", \"PC0_Bank0\", \"PC0_Bank0\", \"PC0_Bank0\", \"PC0_Bank0\", \"PC0_Bank0\", \"PC0_Bank0\", \"PC0_Bank0\", \"PC0_Bank0\", \"PC0_Bank0\", \"PC0_Bank0\", \"PC0_Bank0\", \"PC0_Bank0\", \"PC0_Bank0\", \"PC0_Bank0\", \"PC0_Bank0\", \"PC0_Bank0\", \"PC0_Bank0\", \"PC0_Bank0\", \"PC0_Bank0\", \"PC0_Bank0\", \"PC0_Bank0\", \"PC0_Bank0\", \"PC0_Bank0\", \"PC0_Bank0\", \"PC0_Bank0\", \"PC0_Bank0\", \"PC0_Bank0\", \"PC0_Bank0\", \"PC0_Bank0\", \"PC0_Bank0\", \"PC0_Bank0\", \"PC0_Bank0\", \"PC0_Bank1\", \"PC0_Bank1\", \"PC0_Bank1\", \"PC0_Bank1\", \"PC0_Bank1\", \"PC0_Bank1\", \"PC0_Bank1\", \"PC0_Bank1\", \"PC0_Bank1\", \"PC0_Bank1\", \"PC0_Bank1\", \"PC0_Bank1\", \"PC0_Bank1\", \"PC0_Bank1\", \"PC0_Bank1\", \"PC0_Bank1\", \"PC0_Bank1\", \"PC0_Bank1\", \"PC0_Bank1\", \"PC0_Bank1\", \"PC0_Bank1\", \"PC0_Bank1\", \"PC0_Bank1\", \"PC0_Bank1\", \"PC0_Bank1\", \"PC0_Bank2\", \"PC0_Bank2\", \"PC0_Bank2\", \"PC0_Bank2\", \"PC0_Bank2\", \"PC0_Bank2\", \"PC0_Bank2\", \"PC0_Bank2\", \"PC0_Bank2\", \"PC0_Bank2\", \"PC0_Bank2\", \"PC0_Bank2\", \"PC0_Bank2\", \"PC0_Bank2\", \"PC0_Bank2\", \"PC0_Bank2\", \"PC0_Bank2\", \"PC0_Bank3\", \"PC0_Bank3\", \"PC0_Bank3\", \"PC0_Bank3\", \"PC0_Bank3\", \"PC0_Bank3\", \"PC0_Bank3\", \"PC0_Bank3\", \"PC0_Bank3\", \"PC0_Bank3\", \"PC0_Bank3\", \"PC0_Bank3\", \"PC0_Bank3\", \"PC0_Bank4\", \"PC0_Bank4\", \"PC0_Bank4\", \"PC0_Bank4\", \"PC0_Bank4\", \"PC0_Bank4\", \"PC0_Bank4\", \"PC0_Bank4\", \"PC0_Bank4\", \"PC0_Bank4\", \"PC0_Bank5\", \"PC0_Bank5\", \"PC0_Bank5\", \"PC0_Bank5\", \"PC0_Bank5\", \"PC0_Bank5\", \"PC0_Bank5\", \"PC0_Bank5\", \"PC0_Bank5\", \"PC0_Bank6\", \"PC0_Bank6\", \"PC0_Bank6\", \"PC0_Bank6\", \"PC0_Bank6\", \"PC0_Bank6\", \"PC0_Bank6\", \"PC0_Bank6\", \"PC0_Bank7\", \"PC0_Bank7\", \"PC0_Bank7\", \"PC0_Bank7\", \"PC0_Bank7\", \"PC0_Bank7\", \"PC0_Bank7\", \"PC0_Bank8\", \"PC0_Bank8\", \"PC0_Bank8\", \"PC0_Bank8\", \"PC0_Bank8\", \"PC0_Bank8\", \"PC0_Bank9\", \"PC0_Bank9\", \"PC0_Bank9\", \"PC0_Bank9\", \"PC0_Bank9\", \"PC0_Bank10\", \"PC0_Bank10\", \"PC0_Bank10\", \"PC0_Bank10\", \"PC0_Bank10\", \"PC0_Bank11\", \"PC0_Bank11\", \"PC0_Bank11\", \"PC0_Bank11\", \"PC0_Bank11\", \"PC0_Bank12\", \"PC0_Bank12\", \"PC0_Bank12\", \"PC0_Bank12\", \"PC0_Bank13\", \"PC0_Bank13\", \"PC0_Bank13\", \"PC0_Bank13\", \"PC0_Bank14\", \"PC0_Bank14\", \"PC0_Bank14\", \"PC0_Bank14\", \"PC0_Bank15\", \"PC0_Bank15\", \"PC0_Bank15\", \"PC0_Bank15\"]}, {\"marker\": {\"color\": \"Crimson\"}, \"mode\": \"markers\", \"type\": \"scatter\", \"x\": [0, 1, 2, 3, 4, 5, 6, 7, 8, 9, 10, 11, 12, 13, 14, 15, 16, 17, 18, 19, 20, 21, 22, 23, 24, 25, 26, 27, 28, 29, 30, 31, 32, 33, 34, 35, 36, 37, 38, 39, 40, 41, 42, 43, 44, 45, 46, 47, 48, 49, 0, 2, 4, 6, 8, 10, 12, 14, 16, 18, 20, 22, 24, 26, 28, 30, 32, 34, 36, 38, 40, 42, 44, 46, 48, 0, 3, 6, 9, 12, 15, 18, 21, 24, 27, 30, 33, 36, 39, 42, 45, 48, 0, 4, 8, 12, 16, 20, 24, 28, 32, 36, 40, 44, 48, 0, 5, 10, 15, 20, 25, 30, 35, 40, 45, 0, 6, 12, 18, 24, 30, 36, 42, 48, 0, 7, 14, 21, 28, 35, 42, 49, 0, 8, 16, 24, 32, 40, 48, 0, 9, 18, 27, 36, 45, 0, 10, 20, 30, 40, 0, 11, 22, 33, 44, 0, 12, 24, 36, 48, 0, 13, 26, 39, 0, 14, 28, 42, 0, 15, 30, 45, 0, 16, 32, 48], \"y\": [\"PC1_Bank0\", \"PC1_Bank0\", \"PC1_Bank0\", \"PC1_Bank0\", \"PC1_Bank0\", \"PC1_Bank0\", \"PC1_Bank0\", \"PC1_Bank0\", \"PC1_Bank0\", \"PC1_Bank0\", \"PC1_Bank0\", \"PC1_Bank0\", \"PC1_Bank0\", \"PC1_Bank0\", \"PC1_Bank0\", \"PC1_Bank0\", \"PC1_Bank0\", \"PC1_Bank0\", \"PC1_Bank0\", \"PC1_Bank0\", \"PC1_Bank0\", \"PC1_Bank0\", \"PC1_Bank0\", \"PC1_Bank0\", \"PC1_Bank0\", \"PC1_Bank0\", \"PC1_Bank0\", \"PC1_Bank0\", \"PC1_Bank0\", \"PC1_Bank0\", \"PC1_Bank0\", \"PC1_Bank0\", \"PC1_Bank0\", \"PC1_Bank0\", \"PC1_Bank0\", \"PC1_Bank0\", \"PC1_Bank0\", \"PC1_Bank0\", \"PC1_Bank0\", \"PC1_Bank0\", \"PC1_Bank0\", \"PC1_Bank0\", \"PC1_Bank0\", \"PC1_Bank0\", \"PC1_Bank0\", \"PC1_Bank0\", \"PC1_Bank0\", \"PC1_Bank0\", \"PC1_Bank0\", \"PC1_Bank0\", \"PC1_Bank1\", \"PC1_Bank1\", \"PC1_Bank1\", \"PC1_Bank1\", \"PC1_Bank1\", \"PC1_Bank1\", \"PC1_Bank1\", \"PC1_Bank1\", \"PC1_Bank1\", \"PC1_Bank1\", \"PC1_Bank1\", \"PC1_Bank1\", \"PC1_Bank1\", \"PC1_Bank1\", \"PC1_Bank1\", \"PC1_Bank1\", \"PC1_Bank1\", \"PC1_Bank1\", \"PC1_Bank1\", \"PC1_Bank1\", \"PC1_Bank1\", \"PC1_Bank1\", \"PC1_Bank1\", \"PC1_Bank1\", \"PC1_Bank1\", \"PC1_Bank2\", \"PC1_Bank2\", \"PC1_Bank2\", \"PC1_Bank2\", \"PC1_Bank2\", \"PC1_Bank2\", \"PC1_Bank2\", \"PC1_Bank2\", \"PC1_Bank2\", \"PC1_Bank2\", \"PC1_Bank2\", \"PC1_Bank2\", \"PC1_Bank2\", \"PC1_Bank2\", \"PC1_Bank2\", \"PC1_Bank2\", \"PC1_Bank2\", \"PC1_Bank3\", \"PC1_Bank3\", \"PC1_Bank3\", \"PC1_Bank3\", \"PC1_Bank3\", \"PC1_Bank3\", \"PC1_Bank3\", \"PC1_Bank3\", \"PC1_Bank3\", \"PC1_Bank3\", \"PC1_Bank3\", \"PC1_Bank3\", \"PC1_Bank3\", \"PC1_Bank4\", \"PC1_Bank4\", \"PC1_Bank4\", \"PC1_Bank4\", \"PC1_Bank4\", \"PC1_Bank4\", \"PC1_Bank4\", \"PC1_Bank4\", \"PC1_Bank4\", \"PC1_Bank4\", \"PC1_Bank5\", \"PC1_Bank5\", \"PC1_Bank5\", \"PC1_Bank5\", \"PC1_Bank5\", \"PC1_Bank5\", \"PC1_Bank5\", \"PC1_Bank5\", \"PC1_Bank5\", \"PC1_Bank6\", \"PC1_Bank6\", \"PC1_Bank6\", \"PC1_Bank6\", \"PC1_Bank6\", \"PC1_Bank6\", \"PC1_Bank6\", \"PC1_Bank6\", \"PC1_Bank7\", \"PC1_Bank7\", \"PC1_Bank7\", \"PC1_Bank7\", \"PC1_Bank7\", \"PC1_Bank7\", \"PC1_Bank7\", \"PC1_Bank8\", \"PC1_Bank8\", \"PC1_Bank8\", \"PC1_Bank8\", \"PC1_Bank8\", \"PC1_Bank8\", \"PC1_Bank9\", \"PC1_Bank9\", \"PC1_Bank9\", \"PC1_Bank9\", \"PC1_Bank9\", \"PC1_Bank10\", \"PC1_Bank10\", \"PC1_Bank10\", \"PC1_Bank10\", \"PC1_Bank10\", \"PC1_Bank11\", \"PC1_Bank11\", \"PC1_Bank11\", \"PC1_Bank11\", \"PC1_Bank11\", \"PC1_Bank12\", \"PC1_Bank12\", \"PC1_Bank12\", \"PC1_Bank12\", \"PC1_Bank13\", \"PC1_Bank13\", \"PC1_Bank13\", \"PC1_Bank13\", \"PC1_Bank14\", \"PC1_Bank14\", \"PC1_Bank14\", \"PC1_Bank14\", \"PC1_Bank15\", \"PC1_Bank15\", \"PC1_Bank15\", \"PC1_Bank15\"]}],\n",
       "                        {\"template\": {\"data\": {\"bar\": [{\"error_x\": {\"color\": \"#2a3f5f\"}, \"error_y\": {\"color\": \"#2a3f5f\"}, \"marker\": {\"line\": {\"color\": \"#E5ECF6\", \"width\": 0.5}}, \"type\": \"bar\"}], \"barpolar\": [{\"marker\": {\"line\": {\"color\": \"#E5ECF6\", \"width\": 0.5}}, \"type\": \"barpolar\"}], \"carpet\": [{\"aaxis\": {\"endlinecolor\": \"#2a3f5f\", \"gridcolor\": \"white\", \"linecolor\": \"white\", \"minorgridcolor\": \"white\", \"startlinecolor\": \"#2a3f5f\"}, \"baxis\": {\"endlinecolor\": \"#2a3f5f\", \"gridcolor\": \"white\", \"linecolor\": \"white\", \"minorgridcolor\": \"white\", \"startlinecolor\": \"#2a3f5f\"}, \"type\": \"carpet\"}], \"choropleth\": [{\"colorbar\": {\"outlinewidth\": 0, \"ticks\": \"\"}, \"type\": \"choropleth\"}], \"contour\": [{\"colorbar\": {\"outlinewidth\": 0, \"ticks\": \"\"}, \"colorscale\": [[0.0, \"#0d0887\"], [0.1111111111111111, \"#46039f\"], [0.2222222222222222, \"#7201a8\"], [0.3333333333333333, \"#9c179e\"], [0.4444444444444444, \"#bd3786\"], [0.5555555555555556, \"#d8576b\"], [0.6666666666666666, \"#ed7953\"], [0.7777777777777778, \"#fb9f3a\"], [0.8888888888888888, \"#fdca26\"], [1.0, \"#f0f921\"]], \"type\": \"contour\"}], \"contourcarpet\": [{\"colorbar\": {\"outlinewidth\": 0, \"ticks\": \"\"}, \"type\": \"contourcarpet\"}], \"heatmap\": [{\"colorbar\": {\"outlinewidth\": 0, \"ticks\": \"\"}, \"colorscale\": [[0.0, \"#0d0887\"], [0.1111111111111111, \"#46039f\"], [0.2222222222222222, \"#7201a8\"], [0.3333333333333333, \"#9c179e\"], [0.4444444444444444, \"#bd3786\"], [0.5555555555555556, \"#d8576b\"], [0.6666666666666666, \"#ed7953\"], [0.7777777777777778, \"#fb9f3a\"], [0.8888888888888888, \"#fdca26\"], [1.0, \"#f0f921\"]], \"type\": \"heatmap\"}], \"heatmapgl\": [{\"colorbar\": {\"outlinewidth\": 0, \"ticks\": \"\"}, \"colorscale\": [[0.0, \"#0d0887\"], [0.1111111111111111, \"#46039f\"], [0.2222222222222222, \"#7201a8\"], [0.3333333333333333, \"#9c179e\"], [0.4444444444444444, \"#bd3786\"], [0.5555555555555556, \"#d8576b\"], [0.6666666666666666, \"#ed7953\"], [0.7777777777777778, \"#fb9f3a\"], [0.8888888888888888, \"#fdca26\"], [1.0, \"#f0f921\"]], \"type\": \"heatmapgl\"}], \"histogram\": [{\"marker\": {\"colorbar\": {\"outlinewidth\": 0, \"ticks\": \"\"}}, \"type\": \"histogram\"}], \"histogram2d\": [{\"colorbar\": {\"outlinewidth\": 0, \"ticks\": \"\"}, \"colorscale\": [[0.0, \"#0d0887\"], [0.1111111111111111, \"#46039f\"], [0.2222222222222222, \"#7201a8\"], [0.3333333333333333, \"#9c179e\"], [0.4444444444444444, \"#bd3786\"], [0.5555555555555556, \"#d8576b\"], [0.6666666666666666, \"#ed7953\"], [0.7777777777777778, \"#fb9f3a\"], [0.8888888888888888, \"#fdca26\"], [1.0, \"#f0f921\"]], \"type\": \"histogram2d\"}], \"histogram2dcontour\": [{\"colorbar\": {\"outlinewidth\": 0, \"ticks\": \"\"}, \"colorscale\": [[0.0, \"#0d0887\"], [0.1111111111111111, \"#46039f\"], [0.2222222222222222, \"#7201a8\"], [0.3333333333333333, \"#9c179e\"], [0.4444444444444444, \"#bd3786\"], [0.5555555555555556, \"#d8576b\"], [0.6666666666666666, \"#ed7953\"], [0.7777777777777778, \"#fb9f3a\"], [0.8888888888888888, \"#fdca26\"], [1.0, \"#f0f921\"]], \"type\": \"histogram2dcontour\"}], \"mesh3d\": [{\"colorbar\": {\"outlinewidth\": 0, \"ticks\": \"\"}, \"type\": \"mesh3d\"}], \"parcoords\": [{\"line\": {\"colorbar\": {\"outlinewidth\": 0, \"ticks\": \"\"}}, \"type\": \"parcoords\"}], \"pie\": [{\"automargin\": true, \"type\": \"pie\"}], \"scatter\": [{\"marker\": {\"colorbar\": {\"outlinewidth\": 0, \"ticks\": \"\"}}, \"type\": \"scatter\"}], \"scatter3d\": [{\"line\": {\"colorbar\": {\"outlinewidth\": 0, \"ticks\": \"\"}}, \"marker\": {\"colorbar\": {\"outlinewidth\": 0, \"ticks\": \"\"}}, \"type\": \"scatter3d\"}], \"scattercarpet\": [{\"marker\": {\"colorbar\": {\"outlinewidth\": 0, \"ticks\": \"\"}}, \"type\": \"scattercarpet\"}], \"scattergeo\": [{\"marker\": {\"colorbar\": {\"outlinewidth\": 0, \"ticks\": \"\"}}, \"type\": \"scattergeo\"}], \"scattergl\": [{\"marker\": {\"colorbar\": {\"outlinewidth\": 0, \"ticks\": \"\"}}, \"type\": \"scattergl\"}], \"scattermapbox\": [{\"marker\": {\"colorbar\": {\"outlinewidth\": 0, \"ticks\": \"\"}}, \"type\": \"scattermapbox\"}], \"scatterpolar\": [{\"marker\": {\"colorbar\": {\"outlinewidth\": 0, \"ticks\": \"\"}}, \"type\": \"scatterpolar\"}], \"scatterpolargl\": [{\"marker\": {\"colorbar\": {\"outlinewidth\": 0, \"ticks\": \"\"}}, \"type\": \"scatterpolargl\"}], \"scatterternary\": [{\"marker\": {\"colorbar\": {\"outlinewidth\": 0, \"ticks\": \"\"}}, \"type\": \"scatterternary\"}], \"surface\": [{\"colorbar\": {\"outlinewidth\": 0, \"ticks\": \"\"}, \"colorscale\": [[0.0, \"#0d0887\"], [0.1111111111111111, \"#46039f\"], [0.2222222222222222, \"#7201a8\"], [0.3333333333333333, \"#9c179e\"], [0.4444444444444444, \"#bd3786\"], [0.5555555555555556, \"#d8576b\"], [0.6666666666666666, \"#ed7953\"], [0.7777777777777778, \"#fb9f3a\"], [0.8888888888888888, \"#fdca26\"], [1.0, \"#f0f921\"]], \"type\": \"surface\"}], \"table\": [{\"cells\": {\"fill\": {\"color\": \"#EBF0F8\"}, \"line\": {\"color\": \"white\"}}, \"header\": {\"fill\": {\"color\": \"#C8D4E3\"}, \"line\": {\"color\": \"white\"}}, \"type\": \"table\"}]}, \"layout\": {\"annotationdefaults\": {\"arrowcolor\": \"#2a3f5f\", \"arrowhead\": 0, \"arrowwidth\": 1}, \"coloraxis\": {\"colorbar\": {\"outlinewidth\": 0, \"ticks\": \"\"}}, \"colorscale\": {\"diverging\": [[0, \"#8e0152\"], [0.1, \"#c51b7d\"], [0.2, \"#de77ae\"], [0.3, \"#f1b6da\"], [0.4, \"#fde0ef\"], [0.5, \"#f7f7f7\"], [0.6, \"#e6f5d0\"], [0.7, \"#b8e186\"], [0.8, \"#7fbc41\"], [0.9, \"#4d9221\"], [1, \"#276419\"]], \"sequential\": [[0.0, \"#0d0887\"], [0.1111111111111111, \"#46039f\"], [0.2222222222222222, \"#7201a8\"], [0.3333333333333333, \"#9c179e\"], [0.4444444444444444, \"#bd3786\"], [0.5555555555555556, \"#d8576b\"], [0.6666666666666666, \"#ed7953\"], [0.7777777777777778, \"#fb9f3a\"], [0.8888888888888888, \"#fdca26\"], [1.0, \"#f0f921\"]], \"sequentialminus\": [[0.0, \"#0d0887\"], [0.1111111111111111, \"#46039f\"], [0.2222222222222222, \"#7201a8\"], [0.3333333333333333, \"#9c179e\"], [0.4444444444444444, \"#bd3786\"], [0.5555555555555556, \"#d8576b\"], [0.6666666666666666, \"#ed7953\"], [0.7777777777777778, \"#fb9f3a\"], [0.8888888888888888, \"#fdca26\"], [1.0, \"#f0f921\"]]}, \"colorway\": [\"#636efa\", \"#EF553B\", \"#00cc96\", \"#ab63fa\", \"#FFA15A\", \"#19d3f3\", \"#FF6692\", \"#B6E880\", \"#FF97FF\", \"#FECB52\"], \"font\": {\"color\": \"#2a3f5f\"}, \"geo\": {\"bgcolor\": \"white\", \"lakecolor\": \"white\", \"landcolor\": \"#E5ECF6\", \"showlakes\": true, \"showland\": true, \"subunitcolor\": \"white\"}, \"hoverlabel\": {\"align\": \"left\"}, \"hovermode\": \"closest\", \"mapbox\": {\"style\": \"light\"}, \"paper_bgcolor\": \"white\", \"plot_bgcolor\": \"#E5ECF6\", \"polar\": {\"angularaxis\": {\"gridcolor\": \"white\", \"linecolor\": \"white\", \"ticks\": \"\"}, \"bgcolor\": \"#E5ECF6\", \"radialaxis\": {\"gridcolor\": \"white\", \"linecolor\": \"white\", \"ticks\": \"\"}}, \"scene\": {\"xaxis\": {\"backgroundcolor\": \"#E5ECF6\", \"gridcolor\": \"white\", \"gridwidth\": 2, \"linecolor\": \"white\", \"showbackground\": true, \"ticks\": \"\", \"zerolinecolor\": \"white\"}, \"yaxis\": {\"backgroundcolor\": \"#E5ECF6\", \"gridcolor\": \"white\", \"gridwidth\": 2, \"linecolor\": \"white\", \"showbackground\": true, \"ticks\": \"\", \"zerolinecolor\": \"white\"}, \"zaxis\": {\"backgroundcolor\": \"#E5ECF6\", \"gridcolor\": \"white\", \"gridwidth\": 2, \"linecolor\": \"white\", \"showbackground\": true, \"ticks\": \"\", \"zerolinecolor\": \"white\"}}, \"shapedefaults\": {\"line\": {\"color\": \"#2a3f5f\"}}, \"ternary\": {\"aaxis\": {\"gridcolor\": \"white\", \"linecolor\": \"white\", \"ticks\": \"\"}, \"baxis\": {\"gridcolor\": \"white\", \"linecolor\": \"white\", \"ticks\": \"\"}, \"bgcolor\": \"#E5ECF6\", \"caxis\": {\"gridcolor\": \"white\", \"linecolor\": \"white\", \"ticks\": \"\"}}, \"title\": {\"x\": 0.05}, \"xaxis\": {\"automargin\": true, \"gridcolor\": \"white\", \"linecolor\": \"white\", \"ticks\": \"\", \"title\": {\"standoff\": 15}, \"zerolinecolor\": \"white\", \"zerolinewidth\": 2}, \"yaxis\": {\"automargin\": true, \"gridcolor\": \"white\", \"linecolor\": \"white\", \"ticks\": \"\", \"title\": {\"standoff\": 15}, \"zerolinecolor\": \"white\", \"zerolinewidth\": 2}}}, \"updatemenus\": [{\"buttons\": [{\"args\": [{\"visible\": [true, false]}], \"label\": \"PC0\", \"method\": \"update\"}, {\"args\": [{\"visible\": [false, true]}], \"label\": \"PC1\", \"method\": \"update\"}, {\"args\": [{\"visible\": [true, true]}], \"label\": \"Complete Plot\", \"method\": \"update\"}], \"direction\": \"down\", \"pad\": {\"r\": 10, \"t\": 10}, \"showactive\": true, \"x\": 0.1, \"xanchor\": \"left\", \"y\": 1.1, \"yanchor\": \"top\"}]},\n",
       "                        {\"responsive\": true}\n",
       "                    ).then(function(){\n",
       "                            \n",
       "var gd = document.getElementById('d01d77ad-0cf8-43df-888f-2db05fcea2e0');\n",
       "var x = new MutationObserver(function (mutations, observer) {{\n",
       "        var display = window.getComputedStyle(gd).display;\n",
       "        if (!display || display === 'none') {{\n",
       "            console.log([gd, 'removed!']);\n",
       "            Plotly.purge(gd);\n",
       "            observer.disconnect();\n",
       "        }}\n",
       "}});\n",
       "\n",
       "// Listen for the removal of the full notebook cells\n",
       "var notebookContainer = gd.closest('#notebook-container');\n",
       "if (notebookContainer) {{\n",
       "    x.observe(notebookContainer, {childList: true});\n",
       "}}\n",
       "\n",
       "// Listen for the clearing of the current output cell\n",
       "var outputEl = gd.closest('.output');\n",
       "if (outputEl) {{\n",
       "    x.observe(outputEl, {childList: true});\n",
       "}}\n",
       "\n",
       "                        })\n",
       "                };\n",
       "                });\n",
       "            </script>\n",
       "        </div>"
      ]
     },
     "metadata": {},
     "output_type": "display_data"
    }
   ],
   "source": [
    "fig.update_layout(\n",
    "    updatemenus=[\n",
    "        dict(\n",
    "            buttons=list([\n",
    "                dict(\n",
    "                    args=[{\"visible\": [True, False]}],\n",
    "                    label=\"PC0\",\n",
    "                    method=\"update\"\n",
    "                ),\n",
    "                dict(\n",
    "                    args=[{\"visible\": [False, True]}],\n",
    "                    label=\"PC1\",\n",
    "                    method=\"update\"\n",
    "                ),\n",
    "                dict(\n",
    "                    args=[{\"visible\": [True, True]}],\n",
    "                    label=\"Complete Plot\",\n",
    "                    method=\"update\"\n",
    "                )                \n",
    "            ]),\n",
    "            direction=\"down\",\n",
    "            pad={\"r\": 10, \"t\": 10},\n",
    "            showactive=True,\n",
    "            x=0.1,\n",
    "            xanchor=\"left\",\n",
    "            y=1.1,\n",
    "            yanchor=\"top\"\n",
    "        ),\n",
    "    ]\n",
    ")"
   ]
  },
  {
   "cell_type": "code",
   "execution_count": null,
   "metadata": {},
   "outputs": [],
   "source": []
  }
 ],
 "metadata": {
  "kernelspec": {
   "display_name": "Python 3",
   "language": "python",
   "name": "python3"
  },
  "language_info": {
   "codemirror_mode": {
    "name": "ipython",
    "version": 3
   },
   "file_extension": ".py",
   "mimetype": "text/x-python",
   "name": "python",
   "nbconvert_exporter": "python",
   "pygments_lexer": "ipython3",
   "version": "3.6.10"
  }
 },
 "nbformat": 4,
 "nbformat_minor": 4
}
